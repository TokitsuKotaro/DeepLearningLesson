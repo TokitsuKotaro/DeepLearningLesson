{
  "nbformat": 4,
  "nbformat_minor": 0,
  "metadata": {
    "kernelspec": {
      "name": "python3",
      "display_name": "Python 3"
    },
    "language_info": {
      "codemirror_mode": {
        "name": "ipython",
        "version": 3
      },
      "file_extension": ".py",
      "mimetype": "text/x-python",
      "name": "python",
      "nbconvert_exporter": "python",
      "pygments_lexer": "ipython3",
      "version": "3.7.0"
    },
    "colab": {
      "provenance": []
    },
    "accelerator": "GPU"
  },
  "cells": [
    {
      "cell_type": "code",
      "metadata": {
        "id": "gPu9l-mn60Pa"
      },
      "source": [
        "import torch\n",
        "import numpy as np"
      ],
      "execution_count": null,
      "outputs": []
    },
    {
      "cell_type": "markdown",
      "metadata": {
        "id": "5om0DTTP60Pf"
      },
      "source": [
        "# torch.Tensor\n",
        "torch.Tensorは、numpyのndarrayと同様に行列演算に優れた型です"
      ]
    },
    {
      "cell_type": "markdown",
      "metadata": {
        "id": "NXTpckCV60Pg"
      },
      "source": [
        "まずは適当なテンソル（成分が複数ある値）を生成してみましょう"
      ]
    },
    {
      "cell_type": "code",
      "metadata": {
        "id": "3sba3Qcd60Ph",
        "colab": {
          "base_uri": "https://localhost:8080/",
          "height": 170
        },
        "outputId": "8d5332a3-480b-495d-bbf9-1ce80aa672c6"
      },
      "source": [
        "a = torch.ones(3,3) # 値が1で3x3のテンソル\n",
        "b = torch.Tensor([[1,2,3],[4,5,6],[7,8,9]]) # listから手動で作成\n",
        "c = torch.randn(3,3) # 標準正規分布からサンプリングした3x3のテンソル\n",
        "print('a=', a)\n",
        "print('b=',b)\n",
        "print('c=',c)"
      ],
      "execution_count": null,
      "outputs": [
        {
          "output_type": "stream",
          "text": [
            "a= tensor([[1., 1., 1.],\n",
            "        [1., 1., 1.],\n",
            "        [1., 1., 1.]])\n",
            "b= tensor([[1., 2., 3.],\n",
            "        [4., 5., 6.],\n",
            "        [7., 8., 9.]])\n",
            "c= tensor([[ 0.8194,  1.5554, -1.3125],\n",
            "        [-0.7994,  0.4502, -2.6168],\n",
            "        [-0.2857, -0.6800,  1.3915]])\n"
          ],
          "name": "stdout"
        }
      ]
    },
    {
      "cell_type": "markdown",
      "metadata": {
        "id": "Z-WsR4YC60Pl"
      },
      "source": [
        "テンソルの形は`.size()`で取得できます"
      ]
    },
    {
      "cell_type": "code",
      "metadata": {
        "id": "-MQpMmqd60Pm",
        "colab": {
          "base_uri": "https://localhost:8080/",
          "height": 34
        },
        "outputId": "0a119066-4d62-48e3-a8f7-3ca5556e684a"
      },
      "source": [
        "a.size()"
      ],
      "execution_count": null,
      "outputs": [
        {
          "output_type": "execute_result",
          "data": {
            "text/plain": [
              "torch.Size([3, 3])"
            ]
          },
          "metadata": {
            "tags": []
          },
          "execution_count": 3
        }
      ]
    },
    {
      "cell_type": "markdown",
      "metadata": {
        "id": "Pws1Vzw_60Pp"
      },
      "source": [
        "## numpy, listとの相互変換"
      ]
    },
    {
      "cell_type": "markdown",
      "metadata": {
        "id": "M_mfBStN60Pq"
      },
      "source": [
        "### numpy -> tensor"
      ]
    },
    {
      "cell_type": "code",
      "metadata": {
        "id": "WUkGJJtX60Pq",
        "colab": {
          "base_uri": "https://localhost:8080/",
          "height": 68
        },
        "outputId": "3b31362c-51b2-4cb7-c757-7341993d5f80"
      },
      "source": [
        "a_numpy = np.ones((3,3))\n",
        "a_tensor = torch.from_numpy(a_numpy)\n",
        "print(a_tensor)"
      ],
      "execution_count": null,
      "outputs": [
        {
          "output_type": "stream",
          "text": [
            "tensor([[1., 1., 1.],\n",
            "        [1., 1., 1.],\n",
            "        [1., 1., 1.]], dtype=torch.float64)\n"
          ],
          "name": "stdout"
        }
      ]
    },
    {
      "cell_type": "markdown",
      "metadata": {
        "id": "iaHOhDwF60Pu"
      },
      "source": [
        "### tensor -> numpy"
      ]
    },
    {
      "cell_type": "code",
      "metadata": {
        "id": "e3KekmV760Pv",
        "colab": {
          "base_uri": "https://localhost:8080/",
          "height": 85
        },
        "outputId": "6bcfa177-c185-43b6-d453-e107685965ee"
      },
      "source": [
        "a_numpy2 = a_tensor.numpy()\n",
        "print(a_numpy2)\n",
        "print(type(a_numpy2))"
      ],
      "execution_count": null,
      "outputs": [
        {
          "output_type": "stream",
          "text": [
            "[[1. 1. 1.]\n",
            " [1. 1. 1.]\n",
            " [1. 1. 1.]]\n",
            "<class 'numpy.ndarray'>\n"
          ],
          "name": "stdout"
        }
      ]
    },
    {
      "cell_type": "markdown",
      "metadata": {
        "id": "tAibRWlX60Py"
      },
      "source": [
        "### list -> tensor"
      ]
    },
    {
      "cell_type": "code",
      "metadata": {
        "id": "2Hm7EiWG60Py",
        "colab": {
          "base_uri": "https://localhost:8080/",
          "height": 68
        },
        "outputId": "865a37b2-45e1-4a7e-9dd2-4cbaa9670b5f"
      },
      "source": [
        "a_list = [[1,1,1],[1,1,1],[1,1,1]]\n",
        "a_tensor = torch.Tensor(a_list)\n",
        "print(a_tensor)"
      ],
      "execution_count": null,
      "outputs": [
        {
          "output_type": "stream",
          "text": [
            "tensor([[1., 1., 1.],\n",
            "        [1., 1., 1.],\n",
            "        [1., 1., 1.]])\n"
          ],
          "name": "stdout"
        }
      ]
    },
    {
      "cell_type": "markdown",
      "metadata": {
        "id": "eLJ7SbDD60P1"
      },
      "source": [
        "### tensor -> list"
      ]
    },
    {
      "cell_type": "code",
      "metadata": {
        "id": "LYSVO5aK60P2",
        "colab": {
          "base_uri": "https://localhost:8080/",
          "height": 51
        },
        "outputId": "ff896853-b5d8-4608-95f3-13f5e0c6ff76"
      },
      "source": [
        "a_list2 = a_tensor.tolist()\n",
        "print(a_list2)\n",
        "print(type(a_list2))"
      ],
      "execution_count": null,
      "outputs": [
        {
          "output_type": "stream",
          "text": [
            "[[1.0, 1.0, 1.0], [1.0, 1.0, 1.0], [1.0, 1.0, 1.0]]\n",
            "<class 'list'>\n"
          ],
          "name": "stdout"
        }
      ]
    },
    {
      "cell_type": "markdown",
      "metadata": {
        "id": "M-kE7ZvT60P4"
      },
      "source": [
        "## 四則演算"
      ]
    },
    {
      "cell_type": "markdown",
      "metadata": {
        "id": "cgq1Ee1860P5"
      },
      "source": [
        "形が同じであればテンソル同士での四則演算が可能です"
      ]
    },
    {
      "cell_type": "code",
      "metadata": {
        "id": "7KgQOiCI60P6",
        "colab": {
          "base_uri": "https://localhost:8080/",
          "height": 221
        },
        "outputId": "87c10085-8771-4061-a1c1-0390b50d57af"
      },
      "source": [
        "print(f'a+b={a+b}') # f-stringで表示\n",
        "print(f'a-b={a-b}')\n",
        "print(f'a*b={a*b}')\n",
        "print(f'a/b={a/b}')"
      ],
      "execution_count": null,
      "outputs": [
        {
          "output_type": "stream",
          "text": [
            "a+b=tensor([[ 2.,  3.,  4.],\n",
            "        [ 5.,  6.,  7.],\n",
            "        [ 8.,  9., 10.]])\n",
            "a-b=tensor([[ 0., -1., -2.],\n",
            "        [-3., -4., -5.],\n",
            "        [-6., -7., -8.]])\n",
            "a*b=tensor([[1., 2., 3.],\n",
            "        [4., 5., 6.],\n",
            "        [7., 8., 9.]])\n",
            "a/b=tensor([[1.0000, 0.5000, 0.3333],\n",
            "        [0.2500, 0.2000, 0.1667],\n",
            "        [0.1429, 0.1250, 0.1111]])\n"
          ],
          "name": "stdout"
        }
      ]
    },
    {
      "cell_type": "markdown",
      "metadata": {
        "id": "jxuJhcwa60P8"
      },
      "source": [
        "ベクトル同士の内積は `torch.dot` で行うことができます"
      ]
    },
    {
      "cell_type": "code",
      "metadata": {
        "id": "oMDzzco060P9",
        "colab": {
          "base_uri": "https://localhost:8080/",
          "height": 34
        },
        "outputId": "4f6ccbfa-7b2c-4906-e1c1-fd8ca3dec98d"
      },
      "source": [
        "torch.dot(torch.tensor([2, 3]), torch.tensor([2, 1]))"
      ],
      "execution_count": null,
      "outputs": [
        {
          "output_type": "execute_result",
          "data": {
            "text/plain": [
              "tensor(7)"
            ]
          },
          "metadata": {
            "tags": []
          },
          "execution_count": 9
        }
      ]
    },
    {
      "cell_type": "markdown",
      "metadata": {
        "id": "BAPcI_Zy60QA"
      },
      "source": [
        "行列同士の積は `torch.matmul`で行うことができます"
      ]
    },
    {
      "cell_type": "code",
      "metadata": {
        "id": "AxBJsOAw60QA",
        "colab": {
          "base_uri": "https://localhost:8080/",
          "height": 68
        },
        "outputId": "06c3a802-3a16-4a12-b05a-6c271722a403"
      },
      "source": [
        "print('行列の内積=', torch.matmul(a,b))"
      ],
      "execution_count": null,
      "outputs": [
        {
          "output_type": "stream",
          "text": [
            "行列の内積= tensor([[12., 15., 18.],\n",
            "        [12., 15., 18.],\n",
            "        [12., 15., 18.]])\n"
          ],
          "name": "stdout"
        }
      ]
    },
    {
      "cell_type": "markdown",
      "metadata": {
        "id": "Hn7QHJ0A60QD"
      },
      "source": [
        "また、tensorの形の変更は `view` で行うことができます"
      ]
    },
    {
      "cell_type": "code",
      "metadata": {
        "id": "Y1SZWMgi60QD",
        "colab": {
          "base_uri": "https://localhost:8080/",
          "height": 221
        },
        "outputId": "2556ffd9-4d80-41ab-cbb2-11c8a8395b6e"
      },
      "source": [
        "print('a.view(9,1)=', a.view(9,1)) # 9x1に変更\n",
        "print('a.view(3, -1)=', a.view(3, -1)) # -1を設定すると形に合うように自動で整形してくれる"
      ],
      "execution_count": null,
      "outputs": [
        {
          "output_type": "stream",
          "text": [
            "a.view(9,1)= tensor([[1.],\n",
            "        [1.],\n",
            "        [1.],\n",
            "        [1.],\n",
            "        [1.],\n",
            "        [1.],\n",
            "        [1.],\n",
            "        [1.],\n",
            "        [1.]])\n",
            "a.view(3, -1)= tensor([[1., 1., 1.],\n",
            "        [1., 1., 1.],\n",
            "        [1., 1., 1.]])\n"
          ],
          "name": "stdout"
        }
      ]
    },
    {
      "cell_type": "markdown",
      "metadata": {
        "id": "Zp8Tzjj460QG"
      },
      "source": [
        "また、同じ形のtensor同士は `torch.cat` で連結することが可能です"
      ]
    },
    {
      "cell_type": "code",
      "metadata": {
        "id": "cQj7pRXh60QH",
        "colab": {
          "base_uri": "https://localhost:8080/",
          "height": 119
        },
        "outputId": "65cb5457-947c-4d7c-c175-8b7eba3fe313"
      },
      "source": [
        "d0 = torch.cat([a,b], dim=0)\n",
        "print(d0)"
      ],
      "execution_count": null,
      "outputs": [
        {
          "output_type": "stream",
          "text": [
            "tensor([[1., 1., 1.],\n",
            "        [1., 1., 1.],\n",
            "        [1., 1., 1.],\n",
            "        [1., 2., 3.],\n",
            "        [4., 5., 6.],\n",
            "        [7., 8., 9.]])\n"
          ],
          "name": "stdout"
        }
      ]
    },
    {
      "cell_type": "markdown",
      "metadata": {
        "id": "nzD3FmQ960QJ"
      },
      "source": [
        "dimの値によって連結する方向を変更することができます"
      ]
    },
    {
      "cell_type": "code",
      "metadata": {
        "id": "YjvxtXVf60QK",
        "colab": {
          "base_uri": "https://localhost:8080/",
          "height": 68
        },
        "outputId": "f0a6a0b8-a1fe-4d9d-b436-9451bda71a7e"
      },
      "source": [
        "d1 = torch.cat([a,b], dim=1)\n",
        "print(d1)"
      ],
      "execution_count": null,
      "outputs": [
        {
          "output_type": "stream",
          "text": [
            "tensor([[1., 1., 1., 1., 2., 3.],\n",
            "        [1., 1., 1., 4., 5., 6.],\n",
            "        [1., 1., 1., 7., 8., 9.]])\n"
          ],
          "name": "stdout"
        }
      ]
    },
    {
      "cell_type": "markdown",
      "metadata": {
        "id": "gNPNrJjW60QM"
      },
      "source": [
        "## 平均、分散など"
      ]
    },
    {
      "cell_type": "code",
      "metadata": {
        "id": "h-pGrjeN60QM",
        "colab": {
          "base_uri": "https://localhost:8080/",
          "height": 102
        },
        "outputId": "9b316b8e-898e-4b95-8278-a2afedfd82b1"
      },
      "source": [
        "a = torch.arange(10).type(torch.FloatTensor)\n",
        "print('a=', a)\n",
        "print('合計', torch.sum(a))\n",
        "print('平均', torch.mean(a))\n",
        "print('分散', torch.var(a))\n",
        "print('標準偏差', torch.std(a))"
      ],
      "execution_count": null,
      "outputs": [
        {
          "output_type": "stream",
          "text": [
            "a= tensor([0., 1., 2., 3., 4., 5., 6., 7., 8., 9.])\n",
            "合計 tensor(45.)\n",
            "平均 tensor(4.5000)\n",
            "分散 tensor(9.1667)\n",
            "標準偏差 tensor(3.0277)\n"
          ],
          "name": "stdout"
        }
      ]
    },
    {
      "cell_type": "markdown",
      "metadata": {
        "id": "WLSmQYrV60QP"
      },
      "source": [
        "## スライス"
      ]
    },
    {
      "cell_type": "markdown",
      "metadata": {
        "id": "LRtOwgWM60QQ"
      },
      "source": [
        "numpy.ndarrayと同じように、スライスで要素を取り出すことが可能です。"
      ]
    },
    {
      "cell_type": "code",
      "metadata": {
        "id": "WQUUB3p_60QR",
        "colab": {
          "base_uri": "https://localhost:8080/",
          "height": 102
        },
        "outputId": "7dd99bee-8e14-48f9-eb15-6089c8b342f7"
      },
      "source": [
        "x = torch.arange(10)\n",
        "print('x=', x)\n",
        "print('2番目以降', x[1:])\n",
        "print('8番目まで', x[:8])\n",
        "print('偶数番目', x[::2])\n",
        "print('奇数番目', x[1::2])"
      ],
      "execution_count": null,
      "outputs": [
        {
          "output_type": "stream",
          "text": [
            "x= tensor([0, 1, 2, 3, 4, 5, 6, 7, 8, 9])\n",
            "2番目以降 tensor([1, 2, 3, 4, 5, 6, 7, 8, 9])\n",
            "8番目まで tensor([0, 1, 2, 3, 4, 5, 6, 7])\n",
            "偶数番目 tensor([0, 2, 4, 6, 8])\n",
            "奇数番目 tensor([1, 3, 5, 7, 9])\n"
          ],
          "name": "stdout"
        }
      ]
    },
    {
      "cell_type": "markdown",
      "metadata": {
        "id": "4QXtWWsl60QT"
      },
      "source": [
        "## ブロードキャスト"
      ]
    },
    {
      "cell_type": "markdown",
      "metadata": {
        "id": "cjas2Wdq60QU"
      },
      "source": [
        "numpy.ndarrayと同じように、ブロードキャストによってtensorの形を自動で変換することができます"
      ]
    },
    {
      "cell_type": "code",
      "metadata": {
        "id": "5Cod1gQn60QU",
        "colab": {
          "base_uri": "https://localhost:8080/",
          "height": 153
        },
        "outputId": "fbe26511-1352-4428-ebf6-c0bd7bf0aa5d"
      },
      "source": [
        "a = torch.ones(3,3)\n",
        "print(f'a={a}')\n",
        "print(f'a.size()={a.size()}')\n",
        "b = torch.ones(3,1)\n",
        "print(f'b={b}')\n",
        "print(f'b.size()={b.size()}')"
      ],
      "execution_count": null,
      "outputs": [
        {
          "output_type": "stream",
          "text": [
            "a=tensor([[1., 1., 1.],\n",
            "        [1., 1., 1.],\n",
            "        [1., 1., 1.]])\n",
            "a.size()=torch.Size([3, 3])\n",
            "b=tensor([[1.],\n",
            "        [1.],\n",
            "        [1.]])\n",
            "b.size()=torch.Size([3, 1])\n"
          ],
          "name": "stdout"
        }
      ]
    },
    {
      "cell_type": "markdown",
      "metadata": {
        "id": "2J0JXayn60QW"
      },
      "source": [
        "aの形が(3,3), bの形が(3,1)なので、bの形を(3,3)に変換してから足し合わせている"
      ]
    },
    {
      "cell_type": "code",
      "metadata": {
        "id": "ZW4qFK6B60QX",
        "colab": {
          "base_uri": "https://localhost:8080/",
          "height": 68
        },
        "outputId": "aaaf9871-4155-4c18-adbb-38fa3b9a2112"
      },
      "source": [
        "print(a+b)"
      ],
      "execution_count": null,
      "outputs": [
        {
          "output_type": "stream",
          "text": [
            "tensor([[2., 2., 2.],\n",
            "        [2., 2., 2.],\n",
            "        [2., 2., 2.]])\n"
          ],
          "name": "stdout"
        }
      ]
    },
    {
      "cell_type": "markdown",
      "metadata": {
        "id": "JCJhKG6A60QZ"
      },
      "source": [
        "ブロードキャストは、足し合わせる二つのtensorの形が同じか、どちらかの要素の形が1でなければいけない"
      ]
    },
    {
      "cell_type": "code",
      "metadata": {
        "id": "8ersC3SX60Qa"
      },
      "source": [
        "a = torch.ones(2,3,4)\n",
        "b = torch.ones(2,3)"
      ],
      "execution_count": null,
      "outputs": []
    },
    {
      "cell_type": "markdown",
      "metadata": {
        "id": "Po90dUUG60Qb"
      },
      "source": [
        "aの形が(2,3,4), bの形(2,3)なので, 足し合わせることができない"
      ]
    },
    {
      "cell_type": "code",
      "metadata": {
        "id": "3ioCw1B-60Qc",
        "colab": {
          "base_uri": "https://localhost:8080/",
          "height": 168
        },
        "outputId": "af5819fa-2f81-4dad-d719-e203b96c910f"
      },
      "source": [
        "a+b # エラーが出る"
      ],
      "execution_count": null,
      "outputs": [
        {
          "output_type": "error",
          "ename": "RuntimeError",
          "evalue": "ignored",
          "traceback": [
            "\u001b[0;31m---------------------------------------------------------------------------\u001b[0m",
            "\u001b[0;31mRuntimeError\u001b[0m                              Traceback (most recent call last)",
            "\u001b[0;32m<ipython-input-19-f7fa430a235b>\u001b[0m in \u001b[0;36m<module>\u001b[0;34m()\u001b[0m\n\u001b[0;32m----> 1\u001b[0;31m \u001b[0ma\u001b[0m\u001b[0;34m+\u001b[0m\u001b[0mb\u001b[0m \u001b[0;31m# エラーが出る\u001b[0m\u001b[0;34m\u001b[0m\u001b[0;34m\u001b[0m\u001b[0m\n\u001b[0m",
            "\u001b[0;31mRuntimeError\u001b[0m: The size of tensor a (4) must match the size of tensor b (3) at non-singleton dimension 2"
          ]
        }
      ]
    },
    {
      "cell_type": "markdown",
      "metadata": {
        "id": "JbPb8nDo60Qf"
      },
      "source": [
        "テクニックとして、bの形を(2,3,1)にすることで足し合わせることが可能になる"
      ]
    },
    {
      "cell_type": "code",
      "metadata": {
        "id": "d3pX7d3a60Qh",
        "colab": {
          "base_uri": "https://localhost:8080/",
          "height": 153
        },
        "outputId": "018a4e27-299a-45ff-8c09-6ce022690eea"
      },
      "source": [
        "b = b[:, :, None] # Noneを入れるとその次元が増える\n",
        "print(b.size())\n",
        "print(a + b)"
      ],
      "execution_count": null,
      "outputs": [
        {
          "output_type": "stream",
          "text": [
            "torch.Size([2, 3, 1])\n",
            "tensor([[[2., 2., 2., 2.],\n",
            "         [2., 2., 2., 2.],\n",
            "         [2., 2., 2., 2.]],\n",
            "\n",
            "        [[2., 2., 2., 2.],\n",
            "         [2., 2., 2., 2.],\n",
            "         [2., 2., 2., 2.]]])\n"
          ],
          "name": "stdout"
        }
      ]
    },
    {
      "cell_type": "markdown",
      "metadata": {
        "id": "6PpyKfY860Qk"
      },
      "source": [
        "# GPUの利用"
      ]
    },
    {
      "cell_type": "markdown",
      "metadata": {
        "id": "88f4W8k360Qk"
      },
      "source": [
        "テンソルの計算はGPUを利用して行うことができる"
      ]
    },
    {
      "cell_type": "code",
      "metadata": {
        "id": "O-cyxXGT60Ql"
      },
      "source": [
        "device = torch.device(\"cuda:0\" if torch.cuda.is_available() else \"cpu\") # cuda:0の0はGPUの番号"
      ],
      "execution_count": null,
      "outputs": []
    },
    {
      "cell_type": "code",
      "metadata": {
        "id": "s5toKyF760Qo",
        "colab": {
          "base_uri": "https://localhost:8080/",
          "height": 34
        },
        "outputId": "42ef38e1-c887-4f46-91f2-b0dabc7e0e85"
      },
      "source": [
        "device # 'cuda'になっていればok"
      ],
      "execution_count": null,
      "outputs": [
        {
          "output_type": "execute_result",
          "data": {
            "text/plain": [
              "device(type='cuda', index=0)"
            ]
          },
          "metadata": {
            "tags": []
          },
          "execution_count": 22
        }
      ]
    },
    {
      "cell_type": "markdown",
      "metadata": {
        "id": "K2LFxCg560Qq"
      },
      "source": [
        "`to('cuda:0')` （つまり `to(device)` ）をすることでGPU上での計算が可能になる"
      ]
    },
    {
      "cell_type": "code",
      "metadata": {
        "id": "JFudB83O60Qr",
        "colab": {
          "base_uri": "https://localhost:8080/",
          "height": 68
        },
        "outputId": "04c92616-23c2-4966-80af-5cbcf1edb0e3"
      },
      "source": [
        "a = torch.ones(3,3)\n",
        "print(a.to(device))"
      ],
      "execution_count": null,
      "outputs": [
        {
          "output_type": "stream",
          "text": [
            "tensor([[1., 1., 1.],\n",
            "        [1., 1., 1.],\n",
            "        [1., 1., 1.]], device='cuda:0')\n"
          ],
          "name": "stdout"
        }
      ]
    },
    {
      "cell_type": "code",
      "metadata": {
        "id": "lgLPI3zw60Qt",
        "colab": {
          "base_uri": "https://localhost:8080/",
          "height": 68
        },
        "outputId": "ea57e4d2-fa6b-4eb7-8d54-3f585c0ba89d"
      },
      "source": [
        "b = torch.ones(3,3)\n",
        "a.to(device) + b.to(device) # GPU上での計算"
      ],
      "execution_count": null,
      "outputs": [
        {
          "output_type": "execute_result",
          "data": {
            "text/plain": [
              "tensor([[2., 2., 2.],\n",
              "        [2., 2., 2.],\n",
              "        [2., 2., 2.]], device='cuda:0')"
            ]
          },
          "metadata": {
            "tags": []
          },
          "execution_count": 24
        }
      ]
    },
    {
      "cell_type": "markdown",
      "metadata": {
        "id": "2v_k8loY60Qw"
      },
      "source": [
        "CPU上の値とGPU上の値を一緒に計算することはできない"
      ]
    },
    {
      "cell_type": "code",
      "metadata": {
        "id": "w4drb0pR60Qw",
        "colab": {
          "base_uri": "https://localhost:8080/",
          "height": 168
        },
        "outputId": "dd999373-4be4-4327-e4dd-d64fe77296ff"
      },
      "source": [
        "a.to(device) + b # aはGPU上, bはCPU上なので足し合わせることができない　エラーが出る"
      ],
      "execution_count": null,
      "outputs": [
        {
          "output_type": "error",
          "ename": "RuntimeError",
          "evalue": "ignored",
          "traceback": [
            "\u001b[0;31m---------------------------------------------------------------------------\u001b[0m",
            "\u001b[0;31mRuntimeError\u001b[0m                              Traceback (most recent call last)",
            "\u001b[0;32m<ipython-input-25-8ceb57314597>\u001b[0m in \u001b[0;36m<module>\u001b[0;34m()\u001b[0m\n\u001b[0;32m----> 1\u001b[0;31m \u001b[0ma\u001b[0m\u001b[0;34m.\u001b[0m\u001b[0mto\u001b[0m\u001b[0;34m(\u001b[0m\u001b[0mdevice\u001b[0m\u001b[0;34m)\u001b[0m \u001b[0;34m+\u001b[0m \u001b[0mb\u001b[0m \u001b[0;31m# aはGPU上, bはCPU上なので足し合わせることができない　エラーが出る\u001b[0m\u001b[0;34m\u001b[0m\u001b[0;34m\u001b[0m\u001b[0m\n\u001b[0m",
            "\u001b[0;31mRuntimeError\u001b[0m: expected device cuda:0 but got device cpu"
          ]
        }
      ]
    },
    {
      "cell_type": "markdown",
      "metadata": {
        "id": "UIB-avsY60Qy"
      },
      "source": [
        "# 自動微分\n",
        "ここからpytorchをニューラルネットに使う方法を身につけていきます"
      ]
    },
    {
      "cell_type": "markdown",
      "metadata": {
        "id": "2hev16-k60Qz"
      },
      "source": [
        "まずは自動微分です。tensorは勾配情報を保持しているため、自動的に勾配の値を計算してくれます"
      ]
    },
    {
      "cell_type": "markdown",
      "metadata": {
        "id": "3suysmc-60Q0"
      },
      "source": [
        "自動微分を有効にするには、`requires_grad`をTrueにします"
      ]
    },
    {
      "cell_type": "code",
      "metadata": {
        "id": "In3x7FEo60Q1"
      },
      "source": [
        "y = torch.tensor([0.5, 0.5, 0.5])\n",
        "y.requires_grad = True"
      ],
      "execution_count": null,
      "outputs": []
    },
    {
      "cell_type": "markdown",
      "metadata": {
        "id": "hkwbL41q60Q3"
      },
      "source": [
        "今回は、`target`との平均二乗和誤差を計算します"
      ]
    },
    {
      "cell_type": "code",
      "metadata": {
        "id": "OIt-Y5gh60Q3",
        "colab": {
          "base_uri": "https://localhost:8080/",
          "height": 51
        },
        "outputId": "59fc03bd-75d9-4fbb-a83f-e01f761b618e"
      },
      "source": [
        "target = torch.tensor([0, 2, 0.5], dtype=torch.float)\n",
        "loss = torch.mean((target - y) * (target - y)) # 手動で平均二条誤差の計算\n",
        "print(\"loss: \", loss)\n",
        "print(\"この時点ではまだ逆誤差伝搬していないので、勾配は\", y.grad)"
      ],
      "execution_count": null,
      "outputs": [
        {
          "output_type": "stream",
          "text": [
            "loss:  tensor(0.8333, grad_fn=<MeanBackward0>)\n",
            "この時点ではまだ逆誤差伝搬していないので、勾配は None\n"
          ],
          "name": "stdout"
        }
      ]
    },
    {
      "cell_type": "markdown",
      "metadata": {
        "id": "TThu4tXP60Q5"
      },
      "source": [
        "`loss.backward()`を行うと勾配の計算が行われます"
      ]
    },
    {
      "cell_type": "code",
      "metadata": {
        "id": "zxopR0CF60Q6",
        "colab": {
          "base_uri": "https://localhost:8080/",
          "height": 34
        },
        "outputId": "f9353192-81ab-45d1-f907-3db0cc7f74cf"
      },
      "source": [
        "loss.backward()# 逆誤差伝搬\n",
        "print(\"yの勾配\", y.grad)"
      ],
      "execution_count": null,
      "outputs": [
        {
          "output_type": "stream",
          "text": [
            "yの勾配 tensor([ 0.3333, -1.0000, -0.0000])\n"
          ],
          "name": "stdout"
        }
      ]
    },
    {
      "cell_type": "markdown",
      "metadata": {
        "id": "60UIJjxB60Q7"
      },
      "source": [
        "もう一度勾配を計算すると勾配は加算されます"
      ]
    },
    {
      "cell_type": "code",
      "metadata": {
        "id": "LPfOx2Vs60Q8",
        "colab": {
          "base_uri": "https://localhost:8080/",
          "height": 34
        },
        "outputId": "8d80b20f-7303-4cc1-8a5a-e55e3f9a7c44"
      },
      "source": [
        "loss = torch.mean((target - y) * (target - y))\n",
        "loss.backward()\n",
        "print(\"勾配は加算蓄積されるので注意\", y.grad)"
      ],
      "execution_count": null,
      "outputs": [
        {
          "output_type": "stream",
          "text": [
            "勾配は加算蓄積されるので注意 tensor([ 0.6667, -2.0000, -0.0000])\n"
          ],
          "name": "stdout"
        }
      ]
    },
    {
      "cell_type": "markdown",
      "metadata": {
        "id": "aq6FgW-760Q9"
      },
      "source": [
        "勾配をリセットするときはこのようにします"
      ]
    },
    {
      "cell_type": "code",
      "metadata": {
        "id": "LrqLR_Ug60Q-",
        "colab": {
          "base_uri": "https://localhost:8080/",
          "height": 34
        },
        "outputId": "95433275-f2e6-430e-f6e9-d888978889b8"
      },
      "source": [
        "y.grad.zero_()\n",
        "print(\"勾配リセット\", y.grad)"
      ],
      "execution_count": null,
      "outputs": [
        {
          "output_type": "stream",
          "text": [
            "勾配リセット tensor([0., 0., 0.])\n"
          ],
          "name": "stdout"
        }
      ]
    },
    {
      "cell_type": "markdown",
      "metadata": {
        "id": "rQp9qwLQ60RC"
      },
      "source": [
        "# オプティマイザ\n",
        "自動微分した勾配をもとにパラメータを更新してくれるのがオプティマイザです"
      ]
    },
    {
      "cell_type": "code",
      "metadata": {
        "id": "dYfDLkdD60RC"
      },
      "source": [
        "import torch.nn as nn # ニューラルネットに使う関数\n",
        "import torch.optim as optim # オプティマイザ\n",
        "import torch.nn.functional as F # 様々な便利な関数"
      ],
      "execution_count": null,
      "outputs": []
    },
    {
      "cell_type": "markdown",
      "metadata": {
        "id": "c6Ox9CSr60RG"
      },
      "source": [
        "ニューラルネットの計算には、tensorをnn.Parameterに変換します。これは勾配計算を有効にしたtensorとほぼ等価です。"
      ]
    },
    {
      "cell_type": "code",
      "metadata": {
        "id": "TI6x-okA60RH"
      },
      "source": [
        "y = nn.Parameter(torch.tensor([0.5, 0.5, 0.5]))"
      ],
      "execution_count": null,
      "outputs": []
    },
    {
      "cell_type": "markdown",
      "metadata": {
        "id": "kwVQDvtC60RI"
      },
      "source": [
        "今回は、SGD(確率的勾配降下法)を使用します。第一引数にはパラメータのリストを、第二引数には学習率を入力します"
      ]
    },
    {
      "cell_type": "code",
      "metadata": {
        "id": "nyD8qCMa60RK"
      },
      "source": [
        "optimizer = optim.SGD([y], lr=0.01)"
      ],
      "execution_count": null,
      "outputs": []
    },
    {
      "cell_type": "code",
      "metadata": {
        "id": "5Lhv4pw_60RM",
        "colab": {
          "base_uri": "https://localhost:8080/",
          "height": 51
        },
        "outputId": "def75d5a-5439-4c4c-80c5-bfea04618278"
      },
      "source": [
        "target = torch.tensor([0, 2, 0.5], dtype=torch.float)\n",
        "loss = F.mse_loss(y, target)  # 平均二乗和誤差\n",
        "print(\"loss: \", loss)\n",
        "print(\"この時点ではまだ逆誤差伝搬していないので、勾配は\", y.grad)"
      ],
      "execution_count": null,
      "outputs": [
        {
          "output_type": "stream",
          "text": [
            "loss:  tensor(0.8333, grad_fn=<MseLossBackward>)\n",
            "この時点ではまだ逆誤差伝搬していないので、勾配は None\n"
          ],
          "name": "stdout"
        }
      ]
    },
    {
      "cell_type": "markdown",
      "metadata": {
        "id": "vqEf1z7r60RO"
      },
      "source": [
        "勾配を計算します"
      ]
    },
    {
      "cell_type": "code",
      "metadata": {
        "id": "iL2np80E60RO",
        "colab": {
          "base_uri": "https://localhost:8080/",
          "height": 34
        },
        "outputId": "12a5b6ea-1e90-48d0-e1c7-23b7941e9725"
      },
      "source": [
        "loss.backward()\n",
        "print(\"勾配が計算される\", y.grad)"
      ],
      "execution_count": null,
      "outputs": [
        {
          "output_type": "stream",
          "text": [
            "勾配が計算される tensor([ 0.3333, -1.0000,  0.0000])\n"
          ],
          "name": "stdout"
        }
      ]
    },
    {
      "cell_type": "markdown",
      "metadata": {
        "id": "yT61qWGJ60RQ"
      },
      "source": [
        "勾配の値に沿って、学習率*勾配の分だけ値を更新します"
      ]
    },
    {
      "cell_type": "code",
      "metadata": {
        "id": "jvUHikxk60RR",
        "colab": {
          "base_uri": "https://localhost:8080/",
          "height": 51
        },
        "outputId": "eaa298cc-42af-4d98-accb-d08d818a335e"
      },
      "source": [
        "optimizer.step()  # パラメータ更新\n",
        "print(y)"
      ],
      "execution_count": null,
      "outputs": [
        {
          "output_type": "stream",
          "text": [
            "Parameter containing:\n",
            "tensor([0.4967, 0.5100, 0.5000], requires_grad=True)\n"
          ],
          "name": "stdout"
        }
      ]
    },
    {
      "cell_type": "markdown",
      "metadata": {
        "id": "y6bQST3q60RU"
      },
      "source": [
        "更新が終わったら勾配をリセットします"
      ]
    },
    {
      "cell_type": "code",
      "metadata": {
        "id": "hj45O48f60RV",
        "colab": {
          "base_uri": "https://localhost:8080/",
          "height": 34
        },
        "outputId": "2c347602-75b6-4d38-f0f2-02df7e7411fe"
      },
      "source": [
        "optimizer.zero_grad()  # 勾配のリセット\n",
        "print(y.grad)"
      ],
      "execution_count": null,
      "outputs": [
        {
          "output_type": "stream",
          "text": [
            "tensor([0., 0., 0.])\n"
          ],
          "name": "stdout"
        }
      ]
    },
    {
      "cell_type": "markdown",
      "metadata": {
        "id": "ETuAbUvg60RX"
      },
      "source": [
        "## nn.Module\n",
        "一定の計算をモジュール化できます"
      ]
    },
    {
      "cell_type": "code",
      "metadata": {
        "id": "Yun6qERv60RY"
      },
      "source": [
        "class Multiple(torch.nn.Module):\n",
        "    def __init__(self):\n",
        "        super(Multiple, self).__init__()  # 継承してるので親の__init__を呼びます\n",
        "        self.coefficient = torch.nn.Parameter(torch.ones(3, dtype=torch.float))  # [1, 1, 1]という3次元ベクトル\n",
        "\n",
        "    def forward(self, x):  # 処理内容はforward関数に書く\n",
        "        assert x.shape == (3,)\n",
        "        return x * self.coefficient"
      ],
      "execution_count": null,
      "outputs": []
    },
    {
      "cell_type": "code",
      "metadata": {
        "id": "hM9_zg7Z60RZ",
        "colab": {
          "base_uri": "https://localhost:8080/",
          "height": 85
        },
        "outputId": "6343f49e-df62-4e12-ef6c-a85fa4ad3c69"
      },
      "source": [
        "model = Multiple()\n",
        "optimizer = optim.SGD(model.parameters(), lr=0.01)  # モデルは__init__で定義したパラメータ一覧を自動取得できる\n",
        "x = torch.tensor([0, -1, 3], dtype=torch.float)\n",
        "target = torch.tensor([0, 1, 2], dtype=torch.float)\n",
        "y = model(x)  # モデルもforward関数が呼ばれる\n",
        "loss = F.mse_loss(y, target)\n",
        "loss.backward()\n",
        "print(\"更新前モデルパラメータ\", model.coefficient)\n",
        "optimizer.step()\n",
        "print(\"更新後モデルパラメータ\", model.coefficient)"
      ],
      "execution_count": null,
      "outputs": [
        {
          "output_type": "stream",
          "text": [
            "更新前モデルパラメータ Parameter containing:\n",
            "tensor([1., 1., 1.], requires_grad=True)\n",
            "更新後モデルパラメータ Parameter containing:\n",
            "tensor([1.0000, 0.9867, 0.9800], requires_grad=True)\n"
          ],
          "name": "stdout"
        }
      ]
    },
    {
      "cell_type": "code",
      "metadata": {
        "id": "q6hKbIfx60Rb"
      },
      "source": [],
      "execution_count": null,
      "outputs": []
    }
  ]
}