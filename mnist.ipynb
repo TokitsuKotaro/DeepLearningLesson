{
  "nbformat": 4,
  "nbformat_minor": 0,
  "metadata": {
    "kernelspec": {
      "name": "python3",
      "display_name": "Python 3"
    },
    "language_info": {
      "codemirror_mode": {
        "name": "ipython",
        "version": 3
      },
      "file_extension": ".py",
      "mimetype": "text/x-python",
      "name": "python",
      "nbconvert_exporter": "python",
      "pygments_lexer": "ipython3",
      "version": "3.7.3"
    },
    "colab": {
      "provenance": []
    },
    "accelerator": "GPU",
    "widgets": {
      "application/vnd.jupyter.widget-state+json": {
        "f7ea17a655e7474d8991cf2fb4d2c678": {
          "model_module": "@jupyter-widgets/controls",
          "model_name": "HBoxModel",
          "state": {
            "_view_name": "HBoxView",
            "_dom_classes": [],
            "_model_name": "HBoxModel",
            "_view_module": "@jupyter-widgets/controls",
            "_model_module_version": "1.5.0",
            "_view_count": null,
            "_view_module_version": "1.5.0",
            "box_style": "",
            "layout": "IPY_MODEL_797aa4b101a04ee997ecf3aca1deb31c",
            "_model_module": "@jupyter-widgets/controls",
            "children": [
              "IPY_MODEL_c8ff446e64734279a06f53039dd3921d",
              "IPY_MODEL_aafe1b7f0d8145afb65fd50eeba4ef67"
            ]
          },
          "model_module_version": "1.5.0"
        },
        "797aa4b101a04ee997ecf3aca1deb31c": {
          "model_module": "@jupyter-widgets/base",
          "model_name": "LayoutModel",
          "state": {
            "_view_name": "LayoutView",
            "grid_template_rows": null,
            "right": null,
            "justify_content": null,
            "_view_module": "@jupyter-widgets/base",
            "overflow": null,
            "_model_module_version": "1.2.0",
            "_view_count": null,
            "flex_flow": null,
            "width": null,
            "min_width": null,
            "border": null,
            "align_items": null,
            "bottom": null,
            "_model_module": "@jupyter-widgets/base",
            "top": null,
            "grid_column": null,
            "overflow_y": null,
            "overflow_x": null,
            "grid_auto_flow": null,
            "grid_area": null,
            "grid_template_columns": null,
            "flex": null,
            "_model_name": "LayoutModel",
            "justify_items": null,
            "grid_row": null,
            "max_height": null,
            "align_content": null,
            "visibility": null,
            "align_self": null,
            "height": null,
            "min_height": null,
            "padding": null,
            "grid_auto_rows": null,
            "grid_gap": null,
            "max_width": null,
            "order": null,
            "_view_module_version": "1.2.0",
            "grid_template_areas": null,
            "object_position": null,
            "object_fit": null,
            "grid_auto_columns": null,
            "margin": null,
            "display": null,
            "left": null
          },
          "model_module_version": "1.2.0"
        },
        "c8ff446e64734279a06f53039dd3921d": {
          "model_module": "@jupyter-widgets/controls",
          "model_name": "IntProgressModel",
          "state": {
            "_view_name": "ProgressView",
            "style": "IPY_MODEL_209d59f8c4c54d6d95d64d99b557f47b",
            "_dom_classes": [],
            "description": "",
            "_model_name": "IntProgressModel",
            "bar_style": "info",
            "max": 1,
            "_view_module": "@jupyter-widgets/controls",
            "_model_module_version": "1.5.0",
            "value": 1,
            "_view_count": null,
            "_view_module_version": "1.5.0",
            "orientation": "horizontal",
            "min": 0,
            "description_tooltip": null,
            "_model_module": "@jupyter-widgets/controls",
            "layout": "IPY_MODEL_ea7ac6e6cf8d49c289a2d606e4fe10aa"
          },
          "model_module_version": "1.5.0"
        },
        "aafe1b7f0d8145afb65fd50eeba4ef67": {
          "model_module": "@jupyter-widgets/controls",
          "model_name": "HTMLModel",
          "state": {
            "_view_name": "HTMLView",
            "style": "IPY_MODEL_4798b0c3ca9646e5a3596aad62a351f4",
            "_dom_classes": [],
            "description": "",
            "_model_name": "HTMLModel",
            "placeholder": "​",
            "_view_module": "@jupyter-widgets/controls",
            "_model_module_version": "1.5.0",
            "value": "9920512it [00:30, 458032.65it/s]",
            "_view_count": null,
            "_view_module_version": "1.5.0",
            "description_tooltip": null,
            "_model_module": "@jupyter-widgets/controls",
            "layout": "IPY_MODEL_b8a9a14a856b4e2b8d4e31a4db4ba425"
          },
          "model_module_version": "1.5.0"
        },
        "209d59f8c4c54d6d95d64d99b557f47b": {
          "model_module": "@jupyter-widgets/controls",
          "model_name": "ProgressStyleModel",
          "state": {
            "_view_name": "StyleView",
            "_model_name": "ProgressStyleModel",
            "description_width": "",
            "_view_module": "@jupyter-widgets/base",
            "_model_module_version": "1.5.0",
            "_view_count": null,
            "_view_module_version": "1.2.0",
            "bar_color": null,
            "_model_module": "@jupyter-widgets/controls"
          },
          "model_module_version": "1.5.0"
        },
        "ea7ac6e6cf8d49c289a2d606e4fe10aa": {
          "model_module": "@jupyter-widgets/base",
          "model_name": "LayoutModel",
          "state": {
            "_view_name": "LayoutView",
            "grid_template_rows": null,
            "right": null,
            "justify_content": null,
            "_view_module": "@jupyter-widgets/base",
            "overflow": null,
            "_model_module_version": "1.2.0",
            "_view_count": null,
            "flex_flow": null,
            "width": null,
            "min_width": null,
            "border": null,
            "align_items": null,
            "bottom": null,
            "_model_module": "@jupyter-widgets/base",
            "top": null,
            "grid_column": null,
            "overflow_y": null,
            "overflow_x": null,
            "grid_auto_flow": null,
            "grid_area": null,
            "grid_template_columns": null,
            "flex": null,
            "_model_name": "LayoutModel",
            "justify_items": null,
            "grid_row": null,
            "max_height": null,
            "align_content": null,
            "visibility": null,
            "align_self": null,
            "height": null,
            "min_height": null,
            "padding": null,
            "grid_auto_rows": null,
            "grid_gap": null,
            "max_width": null,
            "order": null,
            "_view_module_version": "1.2.0",
            "grid_template_areas": null,
            "object_position": null,
            "object_fit": null,
            "grid_auto_columns": null,
            "margin": null,
            "display": null,
            "left": null
          },
          "model_module_version": "1.2.0"
        },
        "4798b0c3ca9646e5a3596aad62a351f4": {
          "model_module": "@jupyter-widgets/controls",
          "model_name": "DescriptionStyleModel",
          "state": {
            "_view_name": "StyleView",
            "_model_name": "DescriptionStyleModel",
            "description_width": "",
            "_view_module": "@jupyter-widgets/base",
            "_model_module_version": "1.5.0",
            "_view_count": null,
            "_view_module_version": "1.2.0",
            "_model_module": "@jupyter-widgets/controls"
          },
          "model_module_version": "1.5.0"
        },
        "b8a9a14a856b4e2b8d4e31a4db4ba425": {
          "model_module": "@jupyter-widgets/base",
          "model_name": "LayoutModel",
          "state": {
            "_view_name": "LayoutView",
            "grid_template_rows": null,
            "right": null,
            "justify_content": null,
            "_view_module": "@jupyter-widgets/base",
            "overflow": null,
            "_model_module_version": "1.2.0",
            "_view_count": null,
            "flex_flow": null,
            "width": null,
            "min_width": null,
            "border": null,
            "align_items": null,
            "bottom": null,
            "_model_module": "@jupyter-widgets/base",
            "top": null,
            "grid_column": null,
            "overflow_y": null,
            "overflow_x": null,
            "grid_auto_flow": null,
            "grid_area": null,
            "grid_template_columns": null,
            "flex": null,
            "_model_name": "LayoutModel",
            "justify_items": null,
            "grid_row": null,
            "max_height": null,
            "align_content": null,
            "visibility": null,
            "align_self": null,
            "height": null,
            "min_height": null,
            "padding": null,
            "grid_auto_rows": null,
            "grid_gap": null,
            "max_width": null,
            "order": null,
            "_view_module_version": "1.2.0",
            "grid_template_areas": null,
            "object_position": null,
            "object_fit": null,
            "grid_auto_columns": null,
            "margin": null,
            "display": null,
            "left": null
          },
          "model_module_version": "1.2.0"
        },
        "67d481ade2e74ceab2b86530dc60b16a": {
          "model_module": "@jupyter-widgets/controls",
          "model_name": "HBoxModel",
          "state": {
            "_view_name": "HBoxView",
            "_dom_classes": [],
            "_model_name": "HBoxModel",
            "_view_module": "@jupyter-widgets/controls",
            "_model_module_version": "1.5.0",
            "_view_count": null,
            "_view_module_version": "1.5.0",
            "box_style": "",
            "layout": "IPY_MODEL_37adbadfea034db09157614cd18e3ef6",
            "_model_module": "@jupyter-widgets/controls",
            "children": [
              "IPY_MODEL_17ce44bcb13340939ecf96a9aeb5df67",
              "IPY_MODEL_4d25723f2ff14e85afcdfb6781746294"
            ]
          },
          "model_module_version": "1.5.0"
        },
        "37adbadfea034db09157614cd18e3ef6": {
          "model_module": "@jupyter-widgets/base",
          "model_name": "LayoutModel",
          "state": {
            "_view_name": "LayoutView",
            "grid_template_rows": null,
            "right": null,
            "justify_content": null,
            "_view_module": "@jupyter-widgets/base",
            "overflow": null,
            "_model_module_version": "1.2.0",
            "_view_count": null,
            "flex_flow": null,
            "width": null,
            "min_width": null,
            "border": null,
            "align_items": null,
            "bottom": null,
            "_model_module": "@jupyter-widgets/base",
            "top": null,
            "grid_column": null,
            "overflow_y": null,
            "overflow_x": null,
            "grid_auto_flow": null,
            "grid_area": null,
            "grid_template_columns": null,
            "flex": null,
            "_model_name": "LayoutModel",
            "justify_items": null,
            "grid_row": null,
            "max_height": null,
            "align_content": null,
            "visibility": null,
            "align_self": null,
            "height": null,
            "min_height": null,
            "padding": null,
            "grid_auto_rows": null,
            "grid_gap": null,
            "max_width": null,
            "order": null,
            "_view_module_version": "1.2.0",
            "grid_template_areas": null,
            "object_position": null,
            "object_fit": null,
            "grid_auto_columns": null,
            "margin": null,
            "display": null,
            "left": null
          },
          "model_module_version": "1.2.0"
        },
        "17ce44bcb13340939ecf96a9aeb5df67": {
          "model_module": "@jupyter-widgets/controls",
          "model_name": "IntProgressModel",
          "state": {
            "_view_name": "ProgressView",
            "style": "IPY_MODEL_e3e588df4bde46ce83793e9f0bc0f958",
            "_dom_classes": [],
            "description": "",
            "_model_name": "IntProgressModel",
            "bar_style": "success",
            "max": 1,
            "_view_module": "@jupyter-widgets/controls",
            "_model_module_version": "1.5.0",
            "value": 1,
            "_view_count": null,
            "_view_module_version": "1.5.0",
            "orientation": "horizontal",
            "min": 0,
            "description_tooltip": null,
            "_model_module": "@jupyter-widgets/controls",
            "layout": "IPY_MODEL_ec2149baecb145d7a0abdd197d3ff496"
          },
          "model_module_version": "1.5.0"
        },
        "4d25723f2ff14e85afcdfb6781746294": {
          "model_module": "@jupyter-widgets/controls",
          "model_name": "HTMLModel",
          "state": {
            "_view_name": "HTMLView",
            "style": "IPY_MODEL_1158f1a104444446a6c461e5788b9592",
            "_dom_classes": [],
            "description": "",
            "_model_name": "HTMLModel",
            "placeholder": "​",
            "_view_module": "@jupyter-widgets/controls",
            "_model_module_version": "1.5.0",
            "value": "32768it [00:01, 23712.47it/s]",
            "_view_count": null,
            "_view_module_version": "1.5.0",
            "description_tooltip": null,
            "_model_module": "@jupyter-widgets/controls",
            "layout": "IPY_MODEL_21d7f0b1ed014f739e1bee4cd7bcd9b7"
          },
          "model_module_version": "1.5.0"
        },
        "e3e588df4bde46ce83793e9f0bc0f958": {
          "model_module": "@jupyter-widgets/controls",
          "model_name": "ProgressStyleModel",
          "state": {
            "_view_name": "StyleView",
            "_model_name": "ProgressStyleModel",
            "description_width": "",
            "_view_module": "@jupyter-widgets/base",
            "_model_module_version": "1.5.0",
            "_view_count": null,
            "_view_module_version": "1.2.0",
            "bar_color": null,
            "_model_module": "@jupyter-widgets/controls"
          },
          "model_module_version": "1.5.0"
        },
        "ec2149baecb145d7a0abdd197d3ff496": {
          "model_module": "@jupyter-widgets/base",
          "model_name": "LayoutModel",
          "state": {
            "_view_name": "LayoutView",
            "grid_template_rows": null,
            "right": null,
            "justify_content": null,
            "_view_module": "@jupyter-widgets/base",
            "overflow": null,
            "_model_module_version": "1.2.0",
            "_view_count": null,
            "flex_flow": null,
            "width": null,
            "min_width": null,
            "border": null,
            "align_items": null,
            "bottom": null,
            "_model_module": "@jupyter-widgets/base",
            "top": null,
            "grid_column": null,
            "overflow_y": null,
            "overflow_x": null,
            "grid_auto_flow": null,
            "grid_area": null,
            "grid_template_columns": null,
            "flex": null,
            "_model_name": "LayoutModel",
            "justify_items": null,
            "grid_row": null,
            "max_height": null,
            "align_content": null,
            "visibility": null,
            "align_self": null,
            "height": null,
            "min_height": null,
            "padding": null,
            "grid_auto_rows": null,
            "grid_gap": null,
            "max_width": null,
            "order": null,
            "_view_module_version": "1.2.0",
            "grid_template_areas": null,
            "object_position": null,
            "object_fit": null,
            "grid_auto_columns": null,
            "margin": null,
            "display": null,
            "left": null
          },
          "model_module_version": "1.2.0"
        },
        "1158f1a104444446a6c461e5788b9592": {
          "model_module": "@jupyter-widgets/controls",
          "model_name": "DescriptionStyleModel",
          "state": {
            "_view_name": "StyleView",
            "_model_name": "DescriptionStyleModel",
            "description_width": "",
            "_view_module": "@jupyter-widgets/base",
            "_model_module_version": "1.5.0",
            "_view_count": null,
            "_view_module_version": "1.2.0",
            "_model_module": "@jupyter-widgets/controls"
          },
          "model_module_version": "1.5.0"
        },
        "21d7f0b1ed014f739e1bee4cd7bcd9b7": {
          "model_module": "@jupyter-widgets/base",
          "model_name": "LayoutModel",
          "state": {
            "_view_name": "LayoutView",
            "grid_template_rows": null,
            "right": null,
            "justify_content": null,
            "_view_module": "@jupyter-widgets/base",
            "overflow": null,
            "_model_module_version": "1.2.0",
            "_view_count": null,
            "flex_flow": null,
            "width": null,
            "min_width": null,
            "border": null,
            "align_items": null,
            "bottom": null,
            "_model_module": "@jupyter-widgets/base",
            "top": null,
            "grid_column": null,
            "overflow_y": null,
            "overflow_x": null,
            "grid_auto_flow": null,
            "grid_area": null,
            "grid_template_columns": null,
            "flex": null,
            "_model_name": "LayoutModel",
            "justify_items": null,
            "grid_row": null,
            "max_height": null,
            "align_content": null,
            "visibility": null,
            "align_self": null,
            "height": null,
            "min_height": null,
            "padding": null,
            "grid_auto_rows": null,
            "grid_gap": null,
            "max_width": null,
            "order": null,
            "_view_module_version": "1.2.0",
            "grid_template_areas": null,
            "object_position": null,
            "object_fit": null,
            "grid_auto_columns": null,
            "margin": null,
            "display": null,
            "left": null
          },
          "model_module_version": "1.2.0"
        },
        "141ff40b100342289392abf278d7a6d2": {
          "model_module": "@jupyter-widgets/controls",
          "model_name": "HBoxModel",
          "state": {
            "_view_name": "HBoxView",
            "_dom_classes": [],
            "_model_name": "HBoxModel",
            "_view_module": "@jupyter-widgets/controls",
            "_model_module_version": "1.5.0",
            "_view_count": null,
            "_view_module_version": "1.5.0",
            "box_style": "",
            "layout": "IPY_MODEL_50cbd73eb6cf473eba428e47832d4fdf",
            "_model_module": "@jupyter-widgets/controls",
            "children": [
              "IPY_MODEL_393922d456c04477b20db940d245b705",
              "IPY_MODEL_2b661316471f47d28b36019b534342f6"
            ]
          },
          "model_module_version": "1.5.0"
        },
        "50cbd73eb6cf473eba428e47832d4fdf": {
          "model_module": "@jupyter-widgets/base",
          "model_name": "LayoutModel",
          "state": {
            "_view_name": "LayoutView",
            "grid_template_rows": null,
            "right": null,
            "justify_content": null,
            "_view_module": "@jupyter-widgets/base",
            "overflow": null,
            "_model_module_version": "1.2.0",
            "_view_count": null,
            "flex_flow": null,
            "width": null,
            "min_width": null,
            "border": null,
            "align_items": null,
            "bottom": null,
            "_model_module": "@jupyter-widgets/base",
            "top": null,
            "grid_column": null,
            "overflow_y": null,
            "overflow_x": null,
            "grid_auto_flow": null,
            "grid_area": null,
            "grid_template_columns": null,
            "flex": null,
            "_model_name": "LayoutModel",
            "justify_items": null,
            "grid_row": null,
            "max_height": null,
            "align_content": null,
            "visibility": null,
            "align_self": null,
            "height": null,
            "min_height": null,
            "padding": null,
            "grid_auto_rows": null,
            "grid_gap": null,
            "max_width": null,
            "order": null,
            "_view_module_version": "1.2.0",
            "grid_template_areas": null,
            "object_position": null,
            "object_fit": null,
            "grid_auto_columns": null,
            "margin": null,
            "display": null,
            "left": null
          },
          "model_module_version": "1.2.0"
        },
        "393922d456c04477b20db940d245b705": {
          "model_module": "@jupyter-widgets/controls",
          "model_name": "IntProgressModel",
          "state": {
            "_view_name": "ProgressView",
            "style": "IPY_MODEL_142f334f49c44f71b7c197390b807082",
            "_dom_classes": [],
            "description": "",
            "_model_name": "IntProgressModel",
            "bar_style": "info",
            "max": 1,
            "_view_module": "@jupyter-widgets/controls",
            "_model_module_version": "1.5.0",
            "value": 1,
            "_view_count": null,
            "_view_module_version": "1.5.0",
            "orientation": "horizontal",
            "min": 0,
            "description_tooltip": null,
            "_model_module": "@jupyter-widgets/controls",
            "layout": "IPY_MODEL_04cfeb1fc1e34214a082377a403aa7b2"
          },
          "model_module_version": "1.5.0"
        },
        "2b661316471f47d28b36019b534342f6": {
          "model_module": "@jupyter-widgets/controls",
          "model_name": "HTMLModel",
          "state": {
            "_view_name": "HTMLView",
            "style": "IPY_MODEL_85511e1d9bc04e929bb528d3989fbb6e",
            "_dom_classes": [],
            "description": "",
            "_model_name": "HTMLModel",
            "placeholder": "​",
            "_view_module": "@jupyter-widgets/controls",
            "_model_module_version": "1.5.0",
            "value": "1654784it [00:20, 154676.24it/s]",
            "_view_count": null,
            "_view_module_version": "1.5.0",
            "description_tooltip": null,
            "_model_module": "@jupyter-widgets/controls",
            "layout": "IPY_MODEL_7638090e8d444185b14f4ca8c6853550"
          },
          "model_module_version": "1.5.0"
        },
        "142f334f49c44f71b7c197390b807082": {
          "model_module": "@jupyter-widgets/controls",
          "model_name": "ProgressStyleModel",
          "state": {
            "_view_name": "StyleView",
            "_model_name": "ProgressStyleModel",
            "description_width": "",
            "_view_module": "@jupyter-widgets/base",
            "_model_module_version": "1.5.0",
            "_view_count": null,
            "_view_module_version": "1.2.0",
            "bar_color": null,
            "_model_module": "@jupyter-widgets/controls"
          },
          "model_module_version": "1.5.0"
        },
        "04cfeb1fc1e34214a082377a403aa7b2": {
          "model_module": "@jupyter-widgets/base",
          "model_name": "LayoutModel",
          "state": {
            "_view_name": "LayoutView",
            "grid_template_rows": null,
            "right": null,
            "justify_content": null,
            "_view_module": "@jupyter-widgets/base",
            "overflow": null,
            "_model_module_version": "1.2.0",
            "_view_count": null,
            "flex_flow": null,
            "width": null,
            "min_width": null,
            "border": null,
            "align_items": null,
            "bottom": null,
            "_model_module": "@jupyter-widgets/base",
            "top": null,
            "grid_column": null,
            "overflow_y": null,
            "overflow_x": null,
            "grid_auto_flow": null,
            "grid_area": null,
            "grid_template_columns": null,
            "flex": null,
            "_model_name": "LayoutModel",
            "justify_items": null,
            "grid_row": null,
            "max_height": null,
            "align_content": null,
            "visibility": null,
            "align_self": null,
            "height": null,
            "min_height": null,
            "padding": null,
            "grid_auto_rows": null,
            "grid_gap": null,
            "max_width": null,
            "order": null,
            "_view_module_version": "1.2.0",
            "grid_template_areas": null,
            "object_position": null,
            "object_fit": null,
            "grid_auto_columns": null,
            "margin": null,
            "display": null,
            "left": null
          },
          "model_module_version": "1.2.0"
        },
        "85511e1d9bc04e929bb528d3989fbb6e": {
          "model_module": "@jupyter-widgets/controls",
          "model_name": "DescriptionStyleModel",
          "state": {
            "_view_name": "StyleView",
            "_model_name": "DescriptionStyleModel",
            "description_width": "",
            "_view_module": "@jupyter-widgets/base",
            "_model_module_version": "1.5.0",
            "_view_count": null,
            "_view_module_version": "1.2.0",
            "_model_module": "@jupyter-widgets/controls"
          },
          "model_module_version": "1.5.0"
        },
        "7638090e8d444185b14f4ca8c6853550": {
          "model_module": "@jupyter-widgets/base",
          "model_name": "LayoutModel",
          "state": {
            "_view_name": "LayoutView",
            "grid_template_rows": null,
            "right": null,
            "justify_content": null,
            "_view_module": "@jupyter-widgets/base",
            "overflow": null,
            "_model_module_version": "1.2.0",
            "_view_count": null,
            "flex_flow": null,
            "width": null,
            "min_width": null,
            "border": null,
            "align_items": null,
            "bottom": null,
            "_model_module": "@jupyter-widgets/base",
            "top": null,
            "grid_column": null,
            "overflow_y": null,
            "overflow_x": null,
            "grid_auto_flow": null,
            "grid_area": null,
            "grid_template_columns": null,
            "flex": null,
            "_model_name": "LayoutModel",
            "justify_items": null,
            "grid_row": null,
            "max_height": null,
            "align_content": null,
            "visibility": null,
            "align_self": null,
            "height": null,
            "min_height": null,
            "padding": null,
            "grid_auto_rows": null,
            "grid_gap": null,
            "max_width": null,
            "order": null,
            "_view_module_version": "1.2.0",
            "grid_template_areas": null,
            "object_position": null,
            "object_fit": null,
            "grid_auto_columns": null,
            "margin": null,
            "display": null,
            "left": null
          },
          "model_module_version": "1.2.0"
        },
        "46532472a52343a3b4dfbd391ca74c57": {
          "model_module": "@jupyter-widgets/controls",
          "model_name": "HBoxModel",
          "state": {
            "_view_name": "HBoxView",
            "_dom_classes": [],
            "_model_name": "HBoxModel",
            "_view_module": "@jupyter-widgets/controls",
            "_model_module_version": "1.5.0",
            "_view_count": null,
            "_view_module_version": "1.5.0",
            "box_style": "",
            "layout": "IPY_MODEL_2e6e24813ce94587bf2c673020222bd2",
            "_model_module": "@jupyter-widgets/controls",
            "children": [
              "IPY_MODEL_8c7fea7847944fbb9a777cea219780a3",
              "IPY_MODEL_6a80234f263b46fb97485926244574b8"
            ]
          },
          "model_module_version": "1.5.0"
        },
        "2e6e24813ce94587bf2c673020222bd2": {
          "model_module": "@jupyter-widgets/base",
          "model_name": "LayoutModel",
          "state": {
            "_view_name": "LayoutView",
            "grid_template_rows": null,
            "right": null,
            "justify_content": null,
            "_view_module": "@jupyter-widgets/base",
            "overflow": null,
            "_model_module_version": "1.2.0",
            "_view_count": null,
            "flex_flow": null,
            "width": null,
            "min_width": null,
            "border": null,
            "align_items": null,
            "bottom": null,
            "_model_module": "@jupyter-widgets/base",
            "top": null,
            "grid_column": null,
            "overflow_y": null,
            "overflow_x": null,
            "grid_auto_flow": null,
            "grid_area": null,
            "grid_template_columns": null,
            "flex": null,
            "_model_name": "LayoutModel",
            "justify_items": null,
            "grid_row": null,
            "max_height": null,
            "align_content": null,
            "visibility": null,
            "align_self": null,
            "height": null,
            "min_height": null,
            "padding": null,
            "grid_auto_rows": null,
            "grid_gap": null,
            "max_width": null,
            "order": null,
            "_view_module_version": "1.2.0",
            "grid_template_areas": null,
            "object_position": null,
            "object_fit": null,
            "grid_auto_columns": null,
            "margin": null,
            "display": null,
            "left": null
          },
          "model_module_version": "1.2.0"
        },
        "8c7fea7847944fbb9a777cea219780a3": {
          "model_module": "@jupyter-widgets/controls",
          "model_name": "IntProgressModel",
          "state": {
            "_view_name": "ProgressView",
            "style": "IPY_MODEL_39c38023e4ac404399deedcea96839e8",
            "_dom_classes": [],
            "description": "",
            "_model_name": "IntProgressModel",
            "bar_style": "success",
            "max": 1,
            "_view_module": "@jupyter-widgets/controls",
            "_model_module_version": "1.5.0",
            "value": 1,
            "_view_count": null,
            "_view_module_version": "1.5.0",
            "orientation": "horizontal",
            "min": 0,
            "description_tooltip": null,
            "_model_module": "@jupyter-widgets/controls",
            "layout": "IPY_MODEL_f3fc8d21c2db4133a72ab81650cb9733"
          },
          "model_module_version": "1.5.0"
        },
        "6a80234f263b46fb97485926244574b8": {
          "model_module": "@jupyter-widgets/controls",
          "model_name": "HTMLModel",
          "state": {
            "_view_name": "HTMLView",
            "style": "IPY_MODEL_7ccbf1bfb25b40988f95cd830c4e1fd0",
            "_dom_classes": [],
            "description": "",
            "_model_name": "HTMLModel",
            "placeholder": "​",
            "_view_module": "@jupyter-widgets/controls",
            "_model_module_version": "1.5.0",
            "value": "8192it [00:00, 46051.84it/s]",
            "_view_count": null,
            "_view_module_version": "1.5.0",
            "description_tooltip": null,
            "_model_module": "@jupyter-widgets/controls",
            "layout": "IPY_MODEL_c9d5a5b053904f92a803a16949297801"
          },
          "model_module_version": "1.5.0"
        },
        "39c38023e4ac404399deedcea96839e8": {
          "model_module": "@jupyter-widgets/controls",
          "model_name": "ProgressStyleModel",
          "state": {
            "_view_name": "StyleView",
            "_model_name": "ProgressStyleModel",
            "description_width": "",
            "_view_module": "@jupyter-widgets/base",
            "_model_module_version": "1.5.0",
            "_view_count": null,
            "_view_module_version": "1.2.0",
            "bar_color": null,
            "_model_module": "@jupyter-widgets/controls"
          },
          "model_module_version": "1.5.0"
        },
        "f3fc8d21c2db4133a72ab81650cb9733": {
          "model_module": "@jupyter-widgets/base",
          "model_name": "LayoutModel",
          "state": {
            "_view_name": "LayoutView",
            "grid_template_rows": null,
            "right": null,
            "justify_content": null,
            "_view_module": "@jupyter-widgets/base",
            "overflow": null,
            "_model_module_version": "1.2.0",
            "_view_count": null,
            "flex_flow": null,
            "width": null,
            "min_width": null,
            "border": null,
            "align_items": null,
            "bottom": null,
            "_model_module": "@jupyter-widgets/base",
            "top": null,
            "grid_column": null,
            "overflow_y": null,
            "overflow_x": null,
            "grid_auto_flow": null,
            "grid_area": null,
            "grid_template_columns": null,
            "flex": null,
            "_model_name": "LayoutModel",
            "justify_items": null,
            "grid_row": null,
            "max_height": null,
            "align_content": null,
            "visibility": null,
            "align_self": null,
            "height": null,
            "min_height": null,
            "padding": null,
            "grid_auto_rows": null,
            "grid_gap": null,
            "max_width": null,
            "order": null,
            "_view_module_version": "1.2.0",
            "grid_template_areas": null,
            "object_position": null,
            "object_fit": null,
            "grid_auto_columns": null,
            "margin": null,
            "display": null,
            "left": null
          },
          "model_module_version": "1.2.0"
        },
        "7ccbf1bfb25b40988f95cd830c4e1fd0": {
          "model_module": "@jupyter-widgets/controls",
          "model_name": "DescriptionStyleModel",
          "state": {
            "_view_name": "StyleView",
            "_model_name": "DescriptionStyleModel",
            "description_width": "",
            "_view_module": "@jupyter-widgets/base",
            "_model_module_version": "1.5.0",
            "_view_count": null,
            "_view_module_version": "1.2.0",
            "_model_module": "@jupyter-widgets/controls"
          },
          "model_module_version": "1.5.0"
        },
        "c9d5a5b053904f92a803a16949297801": {
          "model_module": "@jupyter-widgets/base",
          "model_name": "LayoutModel",
          "state": {
            "_view_name": "LayoutView",
            "grid_template_rows": null,
            "right": null,
            "justify_content": null,
            "_view_module": "@jupyter-widgets/base",
            "overflow": null,
            "_model_module_version": "1.2.0",
            "_view_count": null,
            "flex_flow": null,
            "width": null,
            "min_width": null,
            "border": null,
            "align_items": null,
            "bottom": null,
            "_model_module": "@jupyter-widgets/base",
            "top": null,
            "grid_column": null,
            "overflow_y": null,
            "overflow_x": null,
            "grid_auto_flow": null,
            "grid_area": null,
            "grid_template_columns": null,
            "flex": null,
            "_model_name": "LayoutModel",
            "justify_items": null,
            "grid_row": null,
            "max_height": null,
            "align_content": null,
            "visibility": null,
            "align_self": null,
            "height": null,
            "min_height": null,
            "padding": null,
            "grid_auto_rows": null,
            "grid_gap": null,
            "max_width": null,
            "order": null,
            "_view_module_version": "1.2.0",
            "grid_template_areas": null,
            "object_position": null,
            "object_fit": null,
            "grid_auto_columns": null,
            "margin": null,
            "display": null,
            "left": null
          },
          "model_module_version": "1.2.0"
        },
        "1dcbbd1659434b488d2b02a4ea434659": {
          "model_module": "@jupyter-widgets/controls",
          "model_name": "HBoxModel",
          "state": {
            "_view_name": "HBoxView",
            "_dom_classes": [],
            "_model_name": "HBoxModel",
            "_view_module": "@jupyter-widgets/controls",
            "_model_module_version": "1.5.0",
            "_view_count": null,
            "_view_module_version": "1.5.0",
            "box_style": "",
            "layout": "IPY_MODEL_9f9964235b474b178d95a0e31ad17064",
            "_model_module": "@jupyter-widgets/controls",
            "children": [
              "IPY_MODEL_501cab99e998414ba9a6bce893eb069a",
              "IPY_MODEL_d7bc6812a7c64690bf8968bcc8b57a44"
            ]
          },
          "model_module_version": "1.5.0"
        },
        "9f9964235b474b178d95a0e31ad17064": {
          "model_module": "@jupyter-widgets/base",
          "model_name": "LayoutModel",
          "state": {
            "_view_name": "LayoutView",
            "grid_template_rows": null,
            "right": null,
            "justify_content": null,
            "_view_module": "@jupyter-widgets/base",
            "overflow": null,
            "_model_module_version": "1.2.0",
            "_view_count": null,
            "flex_flow": null,
            "width": null,
            "min_width": null,
            "border": null,
            "align_items": null,
            "bottom": null,
            "_model_module": "@jupyter-widgets/base",
            "top": null,
            "grid_column": null,
            "overflow_y": null,
            "overflow_x": null,
            "grid_auto_flow": null,
            "grid_area": null,
            "grid_template_columns": null,
            "flex": null,
            "_model_name": "LayoutModel",
            "justify_items": null,
            "grid_row": null,
            "max_height": null,
            "align_content": null,
            "visibility": null,
            "align_self": null,
            "height": null,
            "min_height": null,
            "padding": null,
            "grid_auto_rows": null,
            "grid_gap": null,
            "max_width": null,
            "order": null,
            "_view_module_version": "1.2.0",
            "grid_template_areas": null,
            "object_position": null,
            "object_fit": null,
            "grid_auto_columns": null,
            "margin": null,
            "display": null,
            "left": null
          },
          "model_module_version": "1.2.0"
        },
        "501cab99e998414ba9a6bce893eb069a": {
          "model_module": "@jupyter-widgets/controls",
          "model_name": "IntProgressModel",
          "state": {
            "_view_name": "ProgressView",
            "style": "IPY_MODEL_86431c929c754a1f9ffdcd93cf95fe79",
            "_dom_classes": [],
            "description": "",
            "_model_name": "IntProgressModel",
            "bar_style": "success",
            "max": 10,
            "_view_module": "@jupyter-widgets/controls",
            "_model_module_version": "1.5.0",
            "value": 10,
            "_view_count": null,
            "_view_module_version": "1.5.0",
            "orientation": "horizontal",
            "min": 0,
            "description_tooltip": null,
            "_model_module": "@jupyter-widgets/controls",
            "layout": "IPY_MODEL_68f9ba6bfe8d4d59816f11eb4cba7414"
          },
          "model_module_version": "1.5.0"
        },
        "d7bc6812a7c64690bf8968bcc8b57a44": {
          "model_module": "@jupyter-widgets/controls",
          "model_name": "HTMLModel",
          "state": {
            "_view_name": "HTMLView",
            "style": "IPY_MODEL_3678446f17d34c2fae1966d2ff1fd740",
            "_dom_classes": [],
            "description": "",
            "_model_name": "HTMLModel",
            "placeholder": "​",
            "_view_module": "@jupyter-widgets/controls",
            "_model_module_version": "1.5.0",
            "value": "100% 10/10 [00:55&lt;00:00,  5.58s/it]",
            "_view_count": null,
            "_view_module_version": "1.5.0",
            "description_tooltip": null,
            "_model_module": "@jupyter-widgets/controls",
            "layout": "IPY_MODEL_53b5868b64fe41cd9a5e5632725051f3"
          },
          "model_module_version": "1.5.0"
        },
        "86431c929c754a1f9ffdcd93cf95fe79": {
          "model_module": "@jupyter-widgets/controls",
          "model_name": "ProgressStyleModel",
          "state": {
            "_view_name": "StyleView",
            "_model_name": "ProgressStyleModel",
            "description_width": "",
            "_view_module": "@jupyter-widgets/base",
            "_model_module_version": "1.5.0",
            "_view_count": null,
            "_view_module_version": "1.2.0",
            "bar_color": null,
            "_model_module": "@jupyter-widgets/controls"
          },
          "model_module_version": "1.5.0"
        },
        "68f9ba6bfe8d4d59816f11eb4cba7414": {
          "model_module": "@jupyter-widgets/base",
          "model_name": "LayoutModel",
          "state": {
            "_view_name": "LayoutView",
            "grid_template_rows": null,
            "right": null,
            "justify_content": null,
            "_view_module": "@jupyter-widgets/base",
            "overflow": null,
            "_model_module_version": "1.2.0",
            "_view_count": null,
            "flex_flow": null,
            "width": null,
            "min_width": null,
            "border": null,
            "align_items": null,
            "bottom": null,
            "_model_module": "@jupyter-widgets/base",
            "top": null,
            "grid_column": null,
            "overflow_y": null,
            "overflow_x": null,
            "grid_auto_flow": null,
            "grid_area": null,
            "grid_template_columns": null,
            "flex": null,
            "_model_name": "LayoutModel",
            "justify_items": null,
            "grid_row": null,
            "max_height": null,
            "align_content": null,
            "visibility": null,
            "align_self": null,
            "height": null,
            "min_height": null,
            "padding": null,
            "grid_auto_rows": null,
            "grid_gap": null,
            "max_width": null,
            "order": null,
            "_view_module_version": "1.2.0",
            "grid_template_areas": null,
            "object_position": null,
            "object_fit": null,
            "grid_auto_columns": null,
            "margin": null,
            "display": null,
            "left": null
          },
          "model_module_version": "1.2.0"
        },
        "3678446f17d34c2fae1966d2ff1fd740": {
          "model_module": "@jupyter-widgets/controls",
          "model_name": "DescriptionStyleModel",
          "state": {
            "_view_name": "StyleView",
            "_model_name": "DescriptionStyleModel",
            "description_width": "",
            "_view_module": "@jupyter-widgets/base",
            "_model_module_version": "1.5.0",
            "_view_count": null,
            "_view_module_version": "1.2.0",
            "_model_module": "@jupyter-widgets/controls"
          },
          "model_module_version": "1.5.0"
        },
        "53b5868b64fe41cd9a5e5632725051f3": {
          "model_module": "@jupyter-widgets/base",
          "model_name": "LayoutModel",
          "state": {
            "_view_name": "LayoutView",
            "grid_template_rows": null,
            "right": null,
            "justify_content": null,
            "_view_module": "@jupyter-widgets/base",
            "overflow": null,
            "_model_module_version": "1.2.0",
            "_view_count": null,
            "flex_flow": null,
            "width": null,
            "min_width": null,
            "border": null,
            "align_items": null,
            "bottom": null,
            "_model_module": "@jupyter-widgets/base",
            "top": null,
            "grid_column": null,
            "overflow_y": null,
            "overflow_x": null,
            "grid_auto_flow": null,
            "grid_area": null,
            "grid_template_columns": null,
            "flex": null,
            "_model_name": "LayoutModel",
            "justify_items": null,
            "grid_row": null,
            "max_height": null,
            "align_content": null,
            "visibility": null,
            "align_self": null,
            "height": null,
            "min_height": null,
            "padding": null,
            "grid_auto_rows": null,
            "grid_gap": null,
            "max_width": null,
            "order": null,
            "_view_module_version": "1.2.0",
            "grid_template_areas": null,
            "object_position": null,
            "object_fit": null,
            "grid_auto_columns": null,
            "margin": null,
            "display": null,
            "left": null
          },
          "model_module_version": "1.2.0"
        },
        "1cd16c64e9e34f6588a20598c0b0e218": {
          "model_module": "@jupyter-widgets/controls",
          "model_name": "HBoxModel",
          "state": {
            "_view_name": "HBoxView",
            "_dom_classes": [],
            "_model_name": "HBoxModel",
            "_view_module": "@jupyter-widgets/controls",
            "_model_module_version": "1.5.0",
            "_view_count": null,
            "_view_module_version": "1.5.0",
            "box_style": "",
            "layout": "IPY_MODEL_b22a7bfed5cf401390a4727017f60f5e",
            "_model_module": "@jupyter-widgets/controls",
            "children": [
              "IPY_MODEL_719b503d57b84fefbba8012e9c8f262e",
              "IPY_MODEL_93dea9bb7a914c499a1394c80520f6ad"
            ]
          },
          "model_module_version": "1.5.0"
        },
        "b22a7bfed5cf401390a4727017f60f5e": {
          "model_module": "@jupyter-widgets/base",
          "model_name": "LayoutModel",
          "state": {
            "_view_name": "LayoutView",
            "grid_template_rows": null,
            "right": null,
            "justify_content": null,
            "_view_module": "@jupyter-widgets/base",
            "overflow": null,
            "_model_module_version": "1.2.0",
            "_view_count": null,
            "flex_flow": null,
            "width": null,
            "min_width": null,
            "border": null,
            "align_items": null,
            "bottom": null,
            "_model_module": "@jupyter-widgets/base",
            "top": null,
            "grid_column": null,
            "overflow_y": null,
            "overflow_x": null,
            "grid_auto_flow": null,
            "grid_area": null,
            "grid_template_columns": null,
            "flex": null,
            "_model_name": "LayoutModel",
            "justify_items": null,
            "grid_row": null,
            "max_height": null,
            "align_content": null,
            "visibility": null,
            "align_self": null,
            "height": null,
            "min_height": null,
            "padding": null,
            "grid_auto_rows": null,
            "grid_gap": null,
            "max_width": null,
            "order": null,
            "_view_module_version": "1.2.0",
            "grid_template_areas": null,
            "object_position": null,
            "object_fit": null,
            "grid_auto_columns": null,
            "margin": null,
            "display": null,
            "left": null
          },
          "model_module_version": "1.2.0"
        },
        "719b503d57b84fefbba8012e9c8f262e": {
          "model_module": "@jupyter-widgets/controls",
          "model_name": "IntProgressModel",
          "state": {
            "_view_name": "ProgressView",
            "style": "IPY_MODEL_9d987e94fea74f4abe168ff5f560f1b2",
            "_dom_classes": [],
            "description": "",
            "_model_name": "IntProgressModel",
            "bar_style": "success",
            "max": 10,
            "_view_module": "@jupyter-widgets/controls",
            "_model_module_version": "1.5.0",
            "value": 10,
            "_view_count": null,
            "_view_module_version": "1.5.0",
            "orientation": "horizontal",
            "min": 0,
            "description_tooltip": null,
            "_model_module": "@jupyter-widgets/controls",
            "layout": "IPY_MODEL_7b21599c1669407d91d88010dd3bdf0d"
          },
          "model_module_version": "1.5.0"
        },
        "93dea9bb7a914c499a1394c80520f6ad": {
          "model_module": "@jupyter-widgets/controls",
          "model_name": "HTMLModel",
          "state": {
            "_view_name": "HTMLView",
            "style": "IPY_MODEL_ae75d2057e7f481199b36bd362d20cc1",
            "_dom_classes": [],
            "description": "",
            "_model_name": "HTMLModel",
            "placeholder": "​",
            "_view_module": "@jupyter-widgets/controls",
            "_model_module_version": "1.5.0",
            "value": "100% 10/10 [01:04&lt;00:00,  6.46s/it]",
            "_view_count": null,
            "_view_module_version": "1.5.0",
            "description_tooltip": null,
            "_model_module": "@jupyter-widgets/controls",
            "layout": "IPY_MODEL_2a7a6675cacf491fbfd125b5f3b1ebba"
          },
          "model_module_version": "1.5.0"
        },
        "9d987e94fea74f4abe168ff5f560f1b2": {
          "model_module": "@jupyter-widgets/controls",
          "model_name": "ProgressStyleModel",
          "state": {
            "_view_name": "StyleView",
            "_model_name": "ProgressStyleModel",
            "description_width": "",
            "_view_module": "@jupyter-widgets/base",
            "_model_module_version": "1.5.0",
            "_view_count": null,
            "_view_module_version": "1.2.0",
            "bar_color": null,
            "_model_module": "@jupyter-widgets/controls"
          },
          "model_module_version": "1.5.0"
        },
        "7b21599c1669407d91d88010dd3bdf0d": {
          "model_module": "@jupyter-widgets/base",
          "model_name": "LayoutModel",
          "state": {
            "_view_name": "LayoutView",
            "grid_template_rows": null,
            "right": null,
            "justify_content": null,
            "_view_module": "@jupyter-widgets/base",
            "overflow": null,
            "_model_module_version": "1.2.0",
            "_view_count": null,
            "flex_flow": null,
            "width": null,
            "min_width": null,
            "border": null,
            "align_items": null,
            "bottom": null,
            "_model_module": "@jupyter-widgets/base",
            "top": null,
            "grid_column": null,
            "overflow_y": null,
            "overflow_x": null,
            "grid_auto_flow": null,
            "grid_area": null,
            "grid_template_columns": null,
            "flex": null,
            "_model_name": "LayoutModel",
            "justify_items": null,
            "grid_row": null,
            "max_height": null,
            "align_content": null,
            "visibility": null,
            "align_self": null,
            "height": null,
            "min_height": null,
            "padding": null,
            "grid_auto_rows": null,
            "grid_gap": null,
            "max_width": null,
            "order": null,
            "_view_module_version": "1.2.0",
            "grid_template_areas": null,
            "object_position": null,
            "object_fit": null,
            "grid_auto_columns": null,
            "margin": null,
            "display": null,
            "left": null
          },
          "model_module_version": "1.2.0"
        },
        "ae75d2057e7f481199b36bd362d20cc1": {
          "model_module": "@jupyter-widgets/controls",
          "model_name": "DescriptionStyleModel",
          "state": {
            "_view_name": "StyleView",
            "_model_name": "DescriptionStyleModel",
            "description_width": "",
            "_view_module": "@jupyter-widgets/base",
            "_model_module_version": "1.5.0",
            "_view_count": null,
            "_view_module_version": "1.2.0",
            "_model_module": "@jupyter-widgets/controls"
          },
          "model_module_version": "1.5.0"
        },
        "2a7a6675cacf491fbfd125b5f3b1ebba": {
          "model_module": "@jupyter-widgets/base",
          "model_name": "LayoutModel",
          "state": {
            "_view_name": "LayoutView",
            "grid_template_rows": null,
            "right": null,
            "justify_content": null,
            "_view_module": "@jupyter-widgets/base",
            "overflow": null,
            "_model_module_version": "1.2.0",
            "_view_count": null,
            "flex_flow": null,
            "width": null,
            "min_width": null,
            "border": null,
            "align_items": null,
            "bottom": null,
            "_model_module": "@jupyter-widgets/base",
            "top": null,
            "grid_column": null,
            "overflow_y": null,
            "overflow_x": null,
            "grid_auto_flow": null,
            "grid_area": null,
            "grid_template_columns": null,
            "flex": null,
            "_model_name": "LayoutModel",
            "justify_items": null,
            "grid_row": null,
            "max_height": null,
            "align_content": null,
            "visibility": null,
            "align_self": null,
            "height": null,
            "min_height": null,
            "padding": null,
            "grid_auto_rows": null,
            "grid_gap": null,
            "max_width": null,
            "order": null,
            "_view_module_version": "1.2.0",
            "grid_template_areas": null,
            "object_position": null,
            "object_fit": null,
            "grid_auto_columns": null,
            "margin": null,
            "display": null,
            "left": null
          },
          "model_module_version": "1.2.0"
        }
      }
    }
  },
  "cells": [
    {
      "cell_type": "code",
      "metadata": {
        "id": "B3ve5sM961cV"
      },
      "source": [
        "import torch\n",
        "import torch.nn as nn\n",
        "import torch.optim as optim\n",
        "import torch.nn.functional as F\n",
        "from torchvision import datasets, transforms  # 公式の画像処理ライブラリ。データのロードや変換ができる\n",
        "\n",
        "import numpy as np\n",
        "import matplotlib.pyplot as plt"
      ],
      "execution_count": null,
      "outputs": []
    },
    {
      "cell_type": "markdown",
      "metadata": {
        "id": "xTgeto9R61cY"
      },
      "source": [
        "# MNISTの手書き文字認識\n",
        "今回は、MNISTという手書き文字のデータセットを認識するタスクを行います"
      ]
    },
    {
      "cell_type": "markdown",
      "metadata": {
        "id": "97VgjkOL61cZ"
      },
      "source": [
        "## データセット\n",
        "まずはデータセットのダウンロードからです"
      ]
    },
    {
      "cell_type": "code",
      "metadata": {
        "id": "IsIx_dAq61ca",
        "colab": {
          "base_uri": "https://localhost:8080/",
          "height": 315,
          "referenced_widgets": [
            "f7ea17a655e7474d8991cf2fb4d2c678",
            "797aa4b101a04ee997ecf3aca1deb31c",
            "c8ff446e64734279a06f53039dd3921d",
            "aafe1b7f0d8145afb65fd50eeba4ef67",
            "209d59f8c4c54d6d95d64d99b557f47b",
            "ea7ac6e6cf8d49c289a2d606e4fe10aa",
            "4798b0c3ca9646e5a3596aad62a351f4",
            "b8a9a14a856b4e2b8d4e31a4db4ba425",
            "67d481ade2e74ceab2b86530dc60b16a",
            "37adbadfea034db09157614cd18e3ef6",
            "17ce44bcb13340939ecf96a9aeb5df67",
            "4d25723f2ff14e85afcdfb6781746294",
            "e3e588df4bde46ce83793e9f0bc0f958",
            "ec2149baecb145d7a0abdd197d3ff496",
            "1158f1a104444446a6c461e5788b9592",
            "21d7f0b1ed014f739e1bee4cd7bcd9b7",
            "141ff40b100342289392abf278d7a6d2",
            "50cbd73eb6cf473eba428e47832d4fdf",
            "393922d456c04477b20db940d245b705",
            "2b661316471f47d28b36019b534342f6",
            "142f334f49c44f71b7c197390b807082",
            "04cfeb1fc1e34214a082377a403aa7b2",
            "85511e1d9bc04e929bb528d3989fbb6e",
            "7638090e8d444185b14f4ca8c6853550",
            "46532472a52343a3b4dfbd391ca74c57",
            "2e6e24813ce94587bf2c673020222bd2",
            "8c7fea7847944fbb9a777cea219780a3",
            "6a80234f263b46fb97485926244574b8",
            "39c38023e4ac404399deedcea96839e8",
            "f3fc8d21c2db4133a72ab81650cb9733",
            "7ccbf1bfb25b40988f95cd830c4e1fd0",
            "c9d5a5b053904f92a803a16949297801"
          ]
        },
        "outputId": "babd8942-2c7a-429f-c8f7-5773b33c421a"
      },
      "source": [
        "train_data = datasets.MNIST('./data',\n",
        "                   train=True,\n",
        "                   download=True,\n",
        "                   transform=transforms.ToTensor()) #テンソルに変換\n",
        "test_data = datasets.MNIST('./data',\n",
        "                   train=False,\n",
        "                   download=True,\n",
        "                   transform=transforms.ToTensor()) #テンソルに変換"
      ],
      "execution_count": null,
      "outputs": [
        {
          "output_type": "stream",
          "text": [
            "Downloading http://yann.lecun.com/exdb/mnist/train-images-idx3-ubyte.gz to ./data/MNIST/raw/train-images-idx3-ubyte.gz\n"
          ],
          "name": "stdout"
        },
        {
          "output_type": "display_data",
          "data": {
            "application/vnd.jupyter.widget-view+json": {
              "model_id": "f7ea17a655e7474d8991cf2fb4d2c678",
              "version_minor": 0,
              "version_major": 2
            },
            "text/plain": [
              "HBox(children=(IntProgress(value=1, bar_style='info', max=1), HTML(value='')))"
            ]
          },
          "metadata": {
            "tags": []
          }
        },
        {
          "output_type": "stream",
          "text": [
            "Extracting ./data/MNIST/raw/train-images-idx3-ubyte.gz to ./data/MNIST/raw\n",
            "Downloading http://yann.lecun.com/exdb/mnist/train-labels-idx1-ubyte.gz to ./data/MNIST/raw/train-labels-idx1-ubyte.gz\n"
          ],
          "name": "stdout"
        },
        {
          "output_type": "display_data",
          "data": {
            "application/vnd.jupyter.widget-view+json": {
              "model_id": "67d481ade2e74ceab2b86530dc60b16a",
              "version_minor": 0,
              "version_major": 2
            },
            "text/plain": [
              "HBox(children=(IntProgress(value=1, bar_style='info', max=1), HTML(value='')))"
            ]
          },
          "metadata": {
            "tags": []
          }
        },
        {
          "output_type": "stream",
          "text": [
            "Extracting ./data/MNIST/raw/train-labels-idx1-ubyte.gz to ./data/MNIST/raw\n",
            "Downloading http://yann.lecun.com/exdb/mnist/t10k-images-idx3-ubyte.gz to ./data/MNIST/raw/t10k-images-idx3-ubyte.gz\n"
          ],
          "name": "stdout"
        },
        {
          "output_type": "display_data",
          "data": {
            "application/vnd.jupyter.widget-view+json": {
              "model_id": "141ff40b100342289392abf278d7a6d2",
              "version_minor": 0,
              "version_major": 2
            },
            "text/plain": [
              "HBox(children=(IntProgress(value=1, bar_style='info', max=1), HTML(value='')))"
            ]
          },
          "metadata": {
            "tags": []
          }
        },
        {
          "output_type": "stream",
          "text": [
            "Extracting ./data/MNIST/raw/t10k-images-idx3-ubyte.gz to ./data/MNIST/raw\n",
            "Downloading http://yann.lecun.com/exdb/mnist/t10k-labels-idx1-ubyte.gz to ./data/MNIST/raw/t10k-labels-idx1-ubyte.gz\n"
          ],
          "name": "stdout"
        },
        {
          "output_type": "display_data",
          "data": {
            "application/vnd.jupyter.widget-view+json": {
              "model_id": "46532472a52343a3b4dfbd391ca74c57",
              "version_minor": 0,
              "version_major": 2
            },
            "text/plain": [
              "HBox(children=(IntProgress(value=1, bar_style='info', max=1), HTML(value='')))"
            ]
          },
          "metadata": {
            "tags": []
          }
        },
        {
          "output_type": "stream",
          "text": [
            "Extracting ./data/MNIST/raw/t10k-labels-idx1-ubyte.gz to ./data/MNIST/raw\n",
            "Processing...\n",
            "Done!\n"
          ],
          "name": "stdout"
        }
      ]
    },
    {
      "cell_type": "markdown",
      "metadata": {
        "id": "FV48gBux61cd"
      },
      "source": [
        "実際のデータは下のように、手書き文字の画像(大きさ28x28)とそのラベルがペアになっています"
      ]
    },
    {
      "cell_type": "code",
      "metadata": {
        "id": "VHnBQ1Fk61ce",
        "colab": {
          "base_uri": "https://localhost:8080/",
          "height": 282
        },
        "outputId": "955a685f-e72e-44c9-b18d-0e9bdf728bf7"
      },
      "source": [
        "plt.gray()\n",
        "plt.imshow(train_data[0][0].numpy()[0])\n",
        "print('label:', train_data[0][1])"
      ],
      "execution_count": null,
      "outputs": [
        {
          "output_type": "stream",
          "text": [
            "label: 5\n"
          ],
          "name": "stdout"
        },
        {
          "output_type": "display_data",
          "data": {
            "image/png": "[encoded data removed]",
            "text/plain": [
              "<Figure size 432x288 with 1 Axes>"
            ]
          },
          "metadata": {
            "tags": []
          }
        }
      ]
    },
    {
      "cell_type": "markdown",
      "metadata": {
        "id": "5B53RxQW61ch"
      },
      "source": [
        "pytorchでミニバッチ学習を行うためには、一度このデータセットを `torch.utils.DataLoader`に格納します"
      ]
    },
    {
      "cell_type": "code",
      "metadata": {
        "id": "pbPu1ns661ci"
      },
      "source": [
        "train_loader = torch.utils.data.DataLoader(train_data, batch_size=64, shuffle=True)\n",
        "test_loader = torch.utils.data.DataLoader(test_data, batch_size=100, shuffle=True)"
      ],
      "execution_count": null,
      "outputs": []
    },
    {
      "cell_type": "markdown",
      "metadata": {
        "id": "zj4ZWQT461cl"
      },
      "source": [
        "## モデル定義\n",
        "まずはもっとも簡単に、全結合層のみでモデルを作成します"
      ]
    },
    {
      "cell_type": "markdown",
      "metadata": {
        "id": "exsjdO8s61cm"
      },
      "source": [
        "`nn.Module`を使うと、モデルの定義などの計算の流れをひとまとめにすることが可能です"
      ]
    },
    {
      "cell_type": "code",
      "metadata": {
        "id": "gMafytGq61co"
      },
      "source": [
        "device = torch.device(\"cuda:0\" if torch.cuda.is_available() else \"cpu\")"
      ],
      "execution_count": null,
      "outputs": []
    },
    {
      "cell_type": "code",
      "metadata": {
        "id": "ngGbthSz61cr"
      },
      "source": [
        "class NetFC(nn.Module):\n",
        "    def __init__(self):\n",
        "        super().__init__()\n",
        "        self.fc1 = nn.Linear(28*28, 500) # 全結合層の定義\n",
        "        self.fc2 = nn.Linear(500, 100)\n",
        "        self.fc3 = nn.Linear(100, 10)\n",
        "        self.relu = nn.ReLU() # 活性化関数としてReLUを使用\n",
        "        self.softmax= nn.Softmax(dim=-1) # 最後に確率値を出したいので、softmaxを使用\n",
        "\n",
        "    def forward(self, x):\n",
        "        batch_size = x.size()[0]\n",
        "        x = x.view(batch_size, -1) # (batch_size, 28, 28)から(batch_size, 784)に\n",
        "        x = self.relu(self.fc1(x)) # 全結合層　-> 活性化関数\n",
        "        x = self.relu(self.fc2(x))\n",
        "        x = self.relu(self.fc3(x))\n",
        "        x = self.softmax(x)\n",
        "        return x"
      ],
      "execution_count": null,
      "outputs": []
    },
    {
      "cell_type": "markdown",
      "metadata": {
        "id": "RCTn8gNt61cu"
      },
      "source": [
        "モデルのインスタンスを作成　`model.train()`で学習モードに、`model.eval()`で評価モード（勾配計算がなされない）に変更できます"
      ]
    },
    {
      "cell_type": "code",
      "metadata": {
        "id": "OTC1Cj-161cv",
        "colab": {
          "base_uri": "https://localhost:8080/",
          "height": 136
        },
        "outputId": "627e4fe8-d123-48ca-f03a-ab15ceef5b3e"
      },
      "source": [
        "model = NetFC()\n",
        "model.to(device)"
      ],
      "execution_count": null,
      "outputs": [
        {
          "output_type": "execute_result",
          "data": {
            "text/plain": [
              "NetFC(\n",
              "  (fc1): Linear(in_features=784, out_features=500, bias=True)\n",
              "  (fc2): Linear(in_features=500, out_features=100, bias=True)\n",
              "  (fc3): Linear(in_features=100, out_features=10, bias=True)\n",
              "  (relu): ReLU()\n",
              "  (softmax): Softmax(dim=-1)\n",
              ")"
            ]
          },
          "metadata": {
            "tags": []
          },
          "execution_count": 7
        }
      ]
    },
    {
      "cell_type": "markdown",
      "metadata": {
        "id": "DRFV2y0A61cy"
      },
      "source": [
        "先にオプティマイザとloss関数を定義します"
      ]
    },
    {
      "cell_type": "code",
      "metadata": {
        "id": "j9JLliH461c0"
      },
      "source": [
        "optimizer = optim.SGD(model.parameters(), lr=0.01) # model.parameters()でモデルに含まれる全てのパラメータが取得できる\n",
        "criterion = nn.CrossEntropyLoss() # 今回はクロスエントロピーロスを使用"
      ],
      "execution_count": null,
      "outputs": []
    },
    {
      "cell_type": "markdown",
      "metadata": {
        "id": "GP3EZX-661c2"
      },
      "source": [
        "ここから学習のための関数を書いていきます"
      ]
    },
    {
      "cell_type": "markdown",
      "metadata": {
        "id": "MezWE-QH61c3"
      },
      "source": [
        "1. 勾配リセット\n",
        "2. モデルの推論\n",
        "3. 誤差計算\n",
        "4. 誤差逆伝播\n",
        "5. パラメータ更新"
      ]
    },
    {
      "cell_type": "markdown",
      "metadata": {
        "id": "H8E-ScBv61c4"
      },
      "source": [
        "のステップを繰り返していきます"
      ]
    },
    {
      "cell_type": "code",
      "metadata": {
        "id": "rSPZlG4961c4"
      },
      "source": [
        "def train(model, epoch):\n",
        "    model.train()  # 学習モードをオンに\n",
        "    train_loss = 0\n",
        "    correct = 0\n",
        "    for data, label in train_loader:\n",
        "        # GPUへの転送\n",
        "        data, label = data.to(device), label.to(device)\n",
        "        # 1. 勾配リセット\n",
        "        optimizer.zero_grad()\n",
        "        # 2. 推論\n",
        "        output = model(data)\n",
        "        # 3. 誤差計算\n",
        "        loss = criterion(output, label)\n",
        "        # 4. 誤差逆伝播\n",
        "        loss.backward()\n",
        "        # 5. パラメータ更新\n",
        "        optimizer.step()\n",
        "\n",
        "        train_loss += loss.item() # item()を行うことで、勾配情報を破棄した値のみ取れる\n",
        "        pred = output.argmax(dim=1, keepdim=True)  # 最大確率のインデックス取得\n",
        "        correct += pred.eq(label.view_as(pred)).sum().item() # 正解数を記録\n",
        "\n",
        "        # 学習経過を表示\n",
        "    print('Train Epoch: {}, Loss: {:.6f}, Accuracy: ({:.0f}%)'.format(epoch,\n",
        "                                                                      train_loss / len(train_loader.dataset),\n",
        "                                                                      100*correct / len(train_loader.dataset)))"
      ],
      "execution_count": null,
      "outputs": []
    },
    {
      "cell_type": "code",
      "metadata": {
        "id": "1mv8YVy361c7"
      },
      "source": [
        "def test(model, epoch):\n",
        "    model.eval()# 学習モードをオフに\n",
        "    test_loss = 0\n",
        "    correct = 0\n",
        "    with torch.no_grad(): # 勾配を計算しない\n",
        "        for data, label in test_loader:\n",
        "            data, label = data.to(device), label.to(device)\n",
        "            output = model(data)\n",
        "            test_loss += criterion(output, label).item()\n",
        "            pred = output.argmax(dim=1, keepdim=True)  # 最大確率のインデックス取得\n",
        "            correct += pred.eq(label.view_as(pred)).sum().item()\n",
        "\n",
        "\n",
        "    print('Test Epoch: {}, Loss: {:.6f}, Accuracy: ({:.0f}%)'.format(epoch,\n",
        "                                                                      test_loss / len(test_loader.dataset),\n",
        "                                                                      100*correct / len(test_loader.dataset)))"
      ],
      "execution_count": null,
      "outputs": []
    },
    {
      "cell_type": "markdown",
      "metadata": {
        "id": "i-9wK0Iu61c9"
      },
      "source": [
        "今回は少々時間のかかる操作を行うので、`tqdm`でプログレスバーを表示させます"
      ]
    },
    {
      "cell_type": "code",
      "metadata": {
        "id": "_JpiRXsY61c-"
      },
      "source": [
        "#from tqdm import tqdm #コマンドラインで実行するとき\n",
        "from tqdm import tqdm_notebook as tqdm # jupyter で実行するとき"
      ],
      "execution_count": null,
      "outputs": []
    },
    {
      "cell_type": "markdown",
      "metadata": {
        "id": "puCkuMGr61dC"
      },
      "source": [
        "実際に学習させます。69%くらいの正解率が出るはずです"
      ]
    },
    {
      "cell_type": "code",
      "metadata": {
        "id": "kfxq2EhZ61dD",
        "colab": {
          "base_uri": "https://localhost:8080/",
          "height": 389,
          "referenced_widgets": [
            "1dcbbd1659434b488d2b02a4ea434659",
            "9f9964235b474b178d95a0e31ad17064",
            "501cab99e998414ba9a6bce893eb069a",
            "d7bc6812a7c64690bf8968bcc8b57a44",
            "86431c929c754a1f9ffdcd93cf95fe79",
            "68f9ba6bfe8d4d59816f11eb4cba7414",
            "3678446f17d34c2fae1966d2ff1fd740",
            "53b5868b64fe41cd9a5e5632725051f3"
          ]
        },
        "outputId": "b4562272-39a3-418e-a4cf-264b3a89e0da"
      },
      "source": [
        "max_epoch = 10\n",
        "for epoch in tqdm(range(max_epoch)):\n",
        "    train(model, epoch)\n",
        "    test(model, epoch)"
      ],
      "execution_count": null,
      "outputs": [
        {
          "output_type": "display_data",
          "data": {
            "application/vnd.jupyter.widget-view+json": {
              "model_id": "1dcbbd1659434b488d2b02a4ea434659",
              "version_minor": 0,
              "version_major": 2
            },
            "text/plain": [
              "HBox(children=(IntProgress(value=0, max=10), HTML(value='')))"
            ]
          },
          "metadata": {
            "tags": []
          }
        },
        {
          "output_type": "stream",
          "text": [
            "Train Epoch: 0, Loss: 0.035984, Accuracy: (17%)\n",
            "Test Epoch: 0, Loss: 0.023005, Accuracy: (31%)\n",
            "Train Epoch: 1, Loss: 0.035938, Accuracy: (37%)\n",
            "Test Epoch: 1, Loss: 0.022967, Accuracy: (42%)\n",
            "Train Epoch: 2, Loss: 0.035861, Accuracy: (43%)\n",
            "Test Epoch: 2, Loss: 0.022896, Accuracy: (43%)\n",
            "Train Epoch: 3, Loss: 0.035684, Accuracy: (42%)\n",
            "Test Epoch: 3, Loss: 0.022703, Accuracy: (40%)\n",
            "Train Epoch: 4, Loss: 0.034836, Accuracy: (36%)\n",
            "Test Epoch: 4, Loss: 0.021536, Accuracy: (34%)\n",
            "Train Epoch: 5, Loss: 0.032544, Accuracy: (42%)\n",
            "Test Epoch: 5, Loss: 0.020076, Accuracy: (52%)\n",
            "Train Epoch: 6, Loss: 0.030717, Accuracy: (55%)\n",
            "Test Epoch: 6, Loss: 0.019282, Accuracy: (56%)\n",
            "Train Epoch: 7, Loss: 0.030020, Accuracy: (56%)\n",
            "Test Epoch: 7, Loss: 0.019002, Accuracy: (57%)\n",
            "Train Epoch: 8, Loss: 0.029312, Accuracy: (62%)\n",
            "Test Epoch: 8, Loss: 0.018427, Accuracy: (66%)\n",
            "Train Epoch: 9, Loss: 0.028604, Accuracy: (67%)\n",
            "Test Epoch: 9, Loss: 0.018070, Accuracy: (69%)\n"
          ],
          "name": "stdout"
        }
      ]
    },
    {
      "cell_type": "markdown",
      "metadata": {
        "id": "hxbA3WRx61dF"
      },
      "source": [
        "# CNNを使った文字認識"
      ]
    },
    {
      "cell_type": "markdown",
      "metadata": {
        "id": "Cu-Ofnnn61dG"
      },
      "source": [
        "全結合層を使うと、パラメータ数が多くなり、学習にも時間がかかります。  \n",
        "そのため今度はMNISTをCNNで行ってみましょう"
      ]
    },
    {
      "cell_type": "markdown",
      "metadata": {
        "id": "KH6PJZAH61dH"
      },
      "source": [
        "* 畳み込みは`nn.Conv2d(in_channels, out_channels, kernel_size, stride, padding)`で行うことができます。\n",
        "* Max Poolingは`nn.MaxPool2d(kernel_size, stride, padding)`で行うことができます"
      ]
    },
    {
      "cell_type": "code",
      "metadata": {
        "id": "6qmSHs6x61dI"
      },
      "source": [
        "class NetCNN(nn.Module):\n",
        "    def __init__(self):\n",
        "        super().__init__()\n",
        "        self.conv1 = nn.Conv2d(in_channels=1, out_channels=32, kernel_size=3, stride=1, padding=1)\n",
        "        self.conv2 = nn.Conv2d(in_channels=32, out_channels=64, kernel_size=3, stride=1, padding=1)\n",
        "        self.max_pool = nn.MaxPool2d(kernel_size=2)\n",
        "        self.relu = nn.ReLU()\n",
        "        self.fc1 = nn.Linear(64*7*7, 100)\n",
        "        self.fc2 = nn.Linear(100, 10)\n",
        "        self.softmax = nn.Softmax(dim=-1)\n",
        "\n",
        "    def forward(self, x):\n",
        "        # (b_size, 1, 28, 28) -> (b_size, 32, 28, 28)\n",
        "        x = self.relu(self.conv1(x))\n",
        "        # (b_size, 32, 28, 28) -> (b_size, 32, 14, 14)\n",
        "        x = self.max_pool(x)\n",
        "        # (b_size, 32, 14, 14) -> (b_size, 64, 14, 14)\n",
        "        x = self.relu(self.conv2(x))\n",
        "        # (b_size, 64, 14, 14) -> (b_size, 64, 7, 7)\n",
        "        x = self.max_pool(x)\n",
        "        # (b_size, 64, 7, 7) -> (b_size, 64*7*7)\n",
        "        x = x.view(x.size()[0], -1)\n",
        "        # (b_size, 64*7*7) -> (b_size, 100)\n",
        "        x = self.fc1(x)\n",
        "        # (b_size, 100) -> (b_size, 10)\n",
        "        x = self.fc2(x)\n",
        "        x = self.softmax(x)\n",
        "        return x"
      ],
      "execution_count": null,
      "outputs": []
    },
    {
      "cell_type": "markdown",
      "metadata": {
        "id": "-3Sj4LH_61dK"
      },
      "source": [
        "モデルの再定義"
      ]
    },
    {
      "cell_type": "code",
      "metadata": {
        "id": "mIzYsJUp61dL"
      },
      "source": [
        "model = NetCNN()\n",
        "model.to(device)\n",
        "\n",
        "optimizer = optim.SGD(model.parameters(), lr=0.01)\n",
        "criterion = nn.CrossEntropyLoss()"
      ],
      "execution_count": null,
      "outputs": []
    },
    {
      "cell_type": "markdown",
      "metadata": {
        "id": "k6_2RErN61dN"
      },
      "source": [
        "85%くらいの正解率が出るはずです"
      ]
    },
    {
      "cell_type": "code",
      "metadata": {
        "id": "XhxWbkUW61dP",
        "colab": {
          "base_uri": "https://localhost:8080/",
          "height": 389,
          "referenced_widgets": [
            "1cd16c64e9e34f6588a20598c0b0e218",
            "b22a7bfed5cf401390a4727017f60f5e",
            "719b503d57b84fefbba8012e9c8f262e",
            "93dea9bb7a914c499a1394c80520f6ad",
            "9d987e94fea74f4abe168ff5f560f1b2",
            "7b21599c1669407d91d88010dd3bdf0d",
            "ae75d2057e7f481199b36bd362d20cc1",
            "2a7a6675cacf491fbfd125b5f3b1ebba"
          ]
        },
        "outputId": "2a666832-0b6c-4b0a-8ddf-0f2e10a29a7a"
      },
      "source": [
        "max_epoch = 10\n",
        "for epoch in tqdm(range(max_epoch)):\n",
        "    train(model, epoch)\n",
        "    test(model, epoch)"
      ],
      "execution_count": null,
      "outputs": [
        {
          "output_type": "display_data",
          "data": {
            "application/vnd.jupyter.widget-view+json": {
              "model_id": "1cd16c64e9e34f6588a20598c0b0e218",
              "version_minor": 0,
              "version_major": 2
            },
            "text/plain": [
              "HBox(children=(IntProgress(value=0, max=10), HTML(value='')))"
            ]
          },
          "metadata": {
            "tags": []
          }
        },
        {
          "output_type": "stream",
          "text": [
            "Train Epoch: 0, Loss: 0.035945, Accuracy: (15%)\n",
            "Test Epoch: 0, Loss: 0.022939, Accuracy: (13%)\n",
            "Train Epoch: 1, Loss: 0.035467, Accuracy: (20%)\n",
            "Test Epoch: 1, Loss: 0.021787, Accuracy: (47%)\n",
            "Train Epoch: 2, Loss: 0.029052, Accuracy: (69%)\n",
            "Test Epoch: 2, Loss: 0.016874, Accuracy: (81%)\n",
            "Train Epoch: 3, Loss: 0.026033, Accuracy: (82%)\n",
            "Test Epoch: 3, Loss: 0.016405, Accuracy: (84%)\n",
            "Train Epoch: 4, Loss: 0.025639, Accuracy: (83%)\n",
            "Test Epoch: 4, Loss: 0.016277, Accuracy: (84%)\n",
            "Train Epoch: 5, Loss: 0.025487, Accuracy: (84%)\n",
            "Test Epoch: 5, Loss: 0.016206, Accuracy: (85%)\n",
            "Train Epoch: 6, Loss: 0.025390, Accuracy: (84%)\n",
            "Test Epoch: 6, Loss: 0.016198, Accuracy: (85%)\n",
            "Train Epoch: 7, Loss: 0.025325, Accuracy: (85%)\n",
            "Test Epoch: 7, Loss: 0.016147, Accuracy: (85%)\n",
            "Train Epoch: 8, Loss: 0.025265, Accuracy: (85%)\n",
            "Test Epoch: 8, Loss: 0.016119, Accuracy: (85%)\n",
            "Train Epoch: 9, Loss: 0.025210, Accuracy: (85%)\n",
            "Test Epoch: 9, Loss: 0.016064, Accuracy: (86%)\n"
          ],
          "name": "stdout"
        }
      ]
    },
    {
      "cell_type": "code",
      "metadata": {
        "id": "npym3cXA61dR"
      },
      "source": [],
      "execution_count": null,
      "outputs": []
    }
  ]
}